{
 "cells": [
  {
   "cell_type": "markdown",
   "metadata": {},
   "source": [
    "# Exercise Description\n",
    "## Linear regression with one variable"
   ]
  },
  {
   "cell_type": "markdown",
   "metadata": {},
   "source": [
    "- In this part of this exercise, you will implement linear regression with one variable to predict profits for a food truck. Suppose you are the CEO of a restaurant franchise and are considering different cities for opening a new outlet. The chain already has trucks in various cities and you have data for profits and populations from the cities. You would like to use this data to help you select which city to expand to next.\n",
    "- The file ex1data1.txt contains the dataset for our linear regression problem. The first column is the population of a city and the second column is the profit of a food truck in that city. A negative value for profit indicates a loss."
   ]
  },
  {
   "cell_type": "code",
   "execution_count": 1,
   "metadata": {},
   "outputs": [],
   "source": [
    "import numpy as np\n",
    "import pandas as pd\n",
    "import sklearn\n",
    "%matplotlib inline\n",
    "import matplotlib.pyplot as plt\n",
    "from mpl_toolkits.mplot3d import Axes3D\n",
    "from matplotlib import cm\n",
    "from matplotlib.ticker import LinearLocator, FormatStrFormatter"
   ]
  },
  {
   "cell_type": "markdown",
   "metadata": {},
   "source": [
    "## 1. Extract Data from Github"
   ]
  },
  {
   "cell_type": "code",
   "execution_count": null,
   "metadata": {},
   "outputs": [],
   "source": [
    "# Load data from github\n",
    "# Remember to copy the link in the raw mode\n",
    "url = 'https://raw.githubusercontent.com/SiyuYang-1919/Coursera-ML-AndrewNg-Notes/master/code/ex1-linear%20regression/ex1data1.txt'\n",
    "data = pd.read_csv(url, delimiter=',', header=None)"
   ]
  },
  {
   "cell_type": "markdown",
   "metadata": {},
   "source": [
    "Reference: https://stackoverflow.com/questions/32400867/pandas-read-csv-from-url"
   ]
  },
  {
   "cell_type": "code",
   "execution_count": null,
   "metadata": {},
   "outputs": [],
   "source": [
    "data.head()"
   ]
  },
  {
   "cell_type": "code",
   "execution_count": null,
   "metadata": {},
   "outputs": [],
   "source": [
    "data.columns"
   ]
  },
  {
   "cell_type": "code",
   "execution_count": null,
   "metadata": {},
   "outputs": [],
   "source": [
    "pp = data.rename(columns={0:'Population(10k)', 1:'Profit($ 10k)'})"
   ]
  },
  {
   "cell_type": "markdown",
   "metadata": {},
   "source": [
    "## 2. Plotting the Data"
   ]
  },
  {
   "cell_type": "code",
   "execution_count": null,
   "metadata": {},
   "outputs": [],
   "source": [
    "fig, ax = plt.subplots()\n",
    "ax.scatter(x=pp['Population(10k)'], y=pp['Profit($ 10k)'], c='cyan', marker='+')\n",
    "ax.set_xlabel('Population of City in 10,000s')\n",
    "ax.set_ylabel('Profit in $10,000s')\n",
    "ax.set_title('Population and Profit')"
   ]
  },
  {
   "cell_type": "markdown",
   "metadata": {},
   "source": [
    "## 3. Gradient Descent"
   ]
  },
  {
   "cell_type": "markdown",
   "metadata": {},
   "source": [
    "### 3.1 Preparation for the Data"
   ]
  },
  {
   "cell_type": "code",
   "execution_count": null,
   "metadata": {},
   "outputs": [],
   "source": [
    "# Add a column of ones to the dataset\n",
    "pp.insert(0, 'Ones', 1)"
   ]
  },
  {
   "cell_type": "code",
   "execution_count": null,
   "metadata": {},
   "outputs": [],
   "source": [
    "# Initialize fitting parameters\n",
    "theta = np.array([[0,0]])\n",
    "iterations = 1500\n",
    "alpha = 0.01"
   ]
  },
  {
   "cell_type": "code",
   "execution_count": null,
   "metadata": {},
   "outputs": [],
   "source": [
    "theta.shape"
   ]
  },
  {
   "cell_type": "markdown",
   "metadata": {},
   "source": [
    "### 3.2 Compute the cost function"
   ]
  },
  {
   "cell_type": "code",
   "execution_count": null,
   "metadata": {},
   "outputs": [],
   "source": [
    "# Define a cost function for the linear regrssion with one variable\n",
    "def CostFunction(m, theta, X, y):\n",
    "    j = sum((X.dot(np.transpose(theta)) - y)**2) / (2*m)\n",
    "    return j"
   ]
  },
  {
   "cell_type": "code",
   "execution_count": null,
   "metadata": {},
   "outputs": [],
   "source": [
    "X = np.array(pp.drop(['Profit($ 10k)'], axis=1))\n",
    "y = np.array(pd.DataFrame(pp['Profit($ 10k)']))\n",
    "m = pp.shape[0]"
   ]
  },
  {
   "cell_type": "code",
   "execution_count": null,
   "metadata": {},
   "outputs": [],
   "source": [
    "CostFunction(m=m, theta=theta, X=X, y=y)"
   ]
  },
  {
   "cell_type": "markdown",
   "metadata": {},
   "source": [
    "### 3.3 Gradient descent"
   ]
  },
  {
   "cell_type": "code",
   "execution_count": null,
   "metadata": {},
   "outputs": [],
   "source": [
    "# Write the gradient descent function\n",
    "def GradientDescent(m, theta, X, y, alpha=0.01, iterations=1500):\n",
    "    # Update theta_j\n",
    "    for i in range(iterations):\n",
    "        differences = X.dot(theta.T) - y\n",
    "        x_1 = np.array(pd.DataFrame(X[:,1]))\n",
    "        theta_0 = theta[0][0] - alpha * sum(differences) / m\n",
    "        theta_1 = theta[0][1] - alpha * sum(differences.T.dot(x_1)) / m\n",
    "        theta = np.array([[theta_0[0], theta_1[0]]])\n",
    "        # Call the cost function to check if it is decreasing\n",
    "        # cost = CostFunction(m, theta, X, y)\n",
    "        # print(cost)\n",
    "    return theta"
   ]
  },
  {
   "cell_type": "code",
   "execution_count": null,
   "metadata": {},
   "outputs": [],
   "source": [
    "# Get the parameters\n",
    "theta_new = GradientDescent(m=m, theta=theta, X=X, y=y, alpha=0.01, iterations=1500)"
   ]
  },
  {
   "cell_type": "code",
   "execution_count": null,
   "metadata": {},
   "outputs": [],
   "source": [
    "# Get the prediction results\n",
    "predict1 = (np.array([[1, 3.5]])).dot(theta_new.T)\n",
    "predict2 = (np.array([[1, 7]])).dot(theta_new.T)"
   ]
  },
  {
   "cell_type": "code",
   "execution_count": null,
   "metadata": {},
   "outputs": [],
   "source": [
    "print(predict1, predict2)"
   ]
  },
  {
   "cell_type": "code",
   "execution_count": null,
   "metadata": {},
   "outputs": [],
   "source": [
    "# Plot the linear fit with computed parameters\n",
    "fig, ax = plt.subplots()\n",
    "ax.scatter(x=pp['Population(10k)'], y=pp['Profit($ 10k)'], c='cyan', marker='+', label='Training data')\n",
    "x = pp['Population(10k)']\n",
    "y_1 = theta_new[0][0] + theta_new[0][1] * x\n",
    "ax.plot(pp['Population(10k)'], y_1, 'r-', label='Linear regression')\n",
    "ax.set_xlabel('Population of City in 10,000s')\n",
    "ax.set_ylabel('Profit in $10,000s')\n",
    "ax.set_title('Population and Profit')\n",
    "ax.legend(loc='lower right')\n",
    "plt.show()"
   ]
  },
  {
   "cell_type": "markdown",
   "metadata": {},
   "source": [
    "## 4. Visualizing"
   ]
  },
  {
   "cell_type": "markdown",
   "metadata": {},
   "source": [
    "### 4.1 Visualizing the cost function "
   ]
  },
  {
   "cell_type": "code",
   "execution_count": null,
   "metadata": {},
   "outputs": [],
   "source": [
    "# Prepare the data for plotting\n",
    "# The following code is modified according to the Octave code and figures provided in the exercise description\n",
    "size = 100\n",
    "m = pp.shape[0]\n",
    "X = np.array(pp.drop(['Profit($ 10k)'], axis=1))\n",
    "y = np.array(pd.DataFrame(pp['Profit($ 10k)']))\n",
    "\n",
    "theta0 = np.linspace(-10,10, size)\n",
    "theta1 = np.linspace(-2, 4, size)\n",
    "J = np.zeros((size, size))\n",
    "for i in range(size):\n",
    "    for j in range(size):\n",
    "        col = np.array([[theta0[i], theta1[j]]])\n",
    "        J[i,j] = CostFunction(m, col, X, y)\n",
    "\n",
    "theta0_g, theta1_g = np.meshgrid(theta0, theta1)\n",
    "J = J.T"
   ]
  },
  {
   "cell_type": "code",
   "execution_count": null,
   "metadata": {},
   "outputs": [],
   "source": [
    "# Make the 3D surface plot\n",
    "fig = plt.figure(figsize=(10, 6))\n",
    "ax = fig.gca(projection='3d')\n",
    "\n",
    "ax.plot_surface(theta0_g, theta1_g, J, rstride=2, cstride=2, alpha=0.3,\n",
    "                cmap=cm.rainbow, linewidth=0, antialiased=False)\n",
    "\n",
    "# Add labels\n",
    "ax.set_xlabel('thet0')\n",
    "ax.set_ylabel('theta1')\n",
    "ax.set_zlabel('J')\n",
    "\n",
    "# Adjust the format of z-axis\n",
    "ax.set_zlim(np.min(J), np.max(J))\n",
    "ax.zaxis.set_major_locator(LinearLocator(10))\n",
    "\n",
    "# Ajust the format of values in each axis\n",
    "ax.zaxis.set_major_formatter(FormatStrFormatter('%.01f'))\n",
    "ax.xaxis.set_major_formatter(FormatStrFormatter('%.01f'))\n",
    "ax.yaxis.set_major_formatter(FormatStrFormatter('%.01f'))\n",
    "\n",
    "# Add a colorbar\n",
    "# fig.colorbar(surf, shrink=0.5, aspect=5)\n",
    "\n",
    "plt.show()\n",
    "plt.savefig('Cost Function 3D', format='png', dpi=300)\n"
   ]
  },
  {
   "cell_type": "code",
   "execution_count": null,
   "metadata": {},
   "outputs": [],
   "source": [
    "# Make the contour plot\n",
    "fig1, ax1 = plt.subplots(figsize=(10, 6))\n",
    "ax1.set_xlabel('theta_0')\n",
    "ax1.set_ylabel('theta_1')\n",
    "CS = ax1.contour(theta0_g, theta1_g, J, np.logspace(0, 3, 20))\n",
    "ax1.clabel(CS, inline=1, fontsize=5)\n",
    "ax1.scatter(x=theta_new[0][0], y=theta_new[0][1], c='red', marker='+')\n",
    "plt.savefig('Cost Function Contour', format='png', dpi=300)"
   ]
  },
  {
   "cell_type": "markdown",
   "metadata": {},
   "source": [
    "### 4.2 Visualizing the gradient process"
   ]
  },
  {
   "cell_type": "code",
   "execution_count": null,
   "metadata": {},
   "outputs": [],
   "source": [
    "# Combine the cost function and gradient descent to get all the data in the minimization process\n",
    "def combined(m, theta, X, y, alpha=0.01, iterations=1500):\n",
    "    # Create empty lists to store the data\n",
    "    theta_0_s = []\n",
    "    theta_1_s = []\n",
    "    costs = []\n",
    "    for i in range(iterations):\n",
    "        # Fill the initialized/updated values\n",
    "        theta_0_s.append(theta[0][0])\n",
    "        theta_1_s.append(theta[0][1])\n",
    "        costs.append(CostFunction(m, theta, X, y)[0])\n",
    "        # Update theta_j\n",
    "        differences = X.dot(theta.T) - y\n",
    "        x_1 = np.array(pd.DataFrame(X[:,1]))\n",
    "        theta_0 = theta[0][0] - alpha * sum(differences) / m\n",
    "        theta_1 = theta[0][1] - alpha * sum(differences.T.dot(x_1)) / m\n",
    "        theta = np.array([[theta_0[0], theta_1[0]]])\n",
    "    # Fill the data in a single dataframe\n",
    "    d = {'theta_0': theta_0_s, 'theta_1': theta_1_s, 'cost': costs}\n",
    "    cost_data = pd.DataFrame(data=d)\n",
    "    return cost_data"
   ]
  },
  {
   "cell_type": "code",
   "execution_count": null,
   "metadata": {},
   "outputs": [],
   "source": [
    "costs = combined(m=m, theta=theta, X=X, y=y, alpha=0.01, iterations=1500)"
   ]
  },
  {
   "cell_type": "code",
   "execution_count": null,
   "metadata": {},
   "outputs": [],
   "source": [
    "costs.head()"
   ]
  },
  {
   "cell_type": "code",
   "execution_count": null,
   "metadata": {},
   "outputs": [],
   "source": [
    "# Prepare the data for plotting\n",
    "# The following code will cost about 5min to run as there are 1500 iterations to finish\n",
    "length = costs.shape[0]\n",
    "cost = np.zeros((length, length))\n",
    "\n",
    "for i in range(length):\n",
    "    for j in range(length):\n",
    "        theta = np.array([[costs['theta_0'][i], costs['theta_1'][j]]])\n",
    "        cost[i,j] = CostFunction(m, theta, X, y)\n",
    "\n",
    "theta_0 = np.array(costs['theta_0'])\n",
    "theta_1 = np.array(costs['theta_1'])\n",
    "theta_0_g, theta_1_g = np.meshgrid(theta_0, theta_1)\n",
    "cost = cost.T"
   ]
  },
  {
   "cell_type": "code",
   "execution_count": null,
   "metadata": {},
   "outputs": [],
   "source": [
    "# Make the 3D plot\n",
    "fig = plt.figure(figsize=(10, 6))\n",
    "ax = fig.gca(projection='3d')\n",
    "\n",
    "ax.plot_surface(theta_0_g, theta_1_g, cost, rstride=2, cstride=2, alpha=0.3,\n",
    "                cmap=cm.rainbow, linewidth=0, antialiased=False)\n",
    "\n",
    "ax.set_xlabel('theta_0')\n",
    "ax.set_ylabel('theta_1')\n",
    "ax.set_zlabel('cost')\n",
    "\n",
    "ax.set_zlim(np.min(cost), np.max(cost))\n",
    "ax.zaxis.set_major_locator(LinearLocator(10))\n",
    "\n",
    "ax.zaxis.set_major_formatter(FormatStrFormatter('%.01f'))\n",
    "ax.xaxis.set_major_formatter(FormatStrFormatter('%.01f'))\n",
    "ax.yaxis.set_major_formatter(FormatStrFormatter('%.01f'))\n",
    "\n",
    "# fig.colorbar(surf, shrink=0.5, aspect=5)\n",
    "plt.savefig('Gradient Descent 3D', format='png', dpi=300)"
   ]
  },
  {
   "cell_type": "code",
   "execution_count": null,
   "metadata": {},
   "outputs": [],
   "source": [
    "# Make the contour plot with the path of optimization\n",
    "fig2, ax2 = plt.subplots(figsize=(10, 6))\n",
    "ax2.set_xlabel('theta_0')\n",
    "ax2.set_ylabel('theta_1')\n",
    "CS = ax2.contour(theta_0_g, theta_1_g, cost, np.logspace(0, 2, 20))\n",
    "ax2.clabel(CS, inline=1, fontsize=10)\n",
    "ax2.scatter(x=theta_new[0][0], y=theta_new[0][1], c='red', marker='+')\n",
    "ax2.scatter(x=costs['theta_0'], y=costs['theta_1'], s=0.1, c='dodgerblue', marker='.')\n",
    "plt.savefig('Gradient Descent Contour', format='png', dpi=300)"
   ]
  },
  {
   "cell_type": "code",
   "execution_count": null,
   "metadata": {},
   "outputs": [],
   "source": [
    "# Convergence of gradient descent\n",
    "# Exclude the first value of theta_0, theta_1, and cost\n",
    "x = np.arange(1, iterations)\n",
    "y = costs['cost'][1:]\n",
    "fig3, ax3 = plt.subplots(figsize=(10, 6))\n",
    "ax3.plot(x, y, 'r-')\n",
    "ax3.set_xlabel('Iterations')\n",
    "ax3.set_ylabel('Costs')\n",
    "plt.savefig('Convergence of Gradient Descent', format='png', dpi=300)"
   ]
  },
  {
   "source": [
<<<<<<< HEAD
    "## Linear Regression with Multiple Variable"
=======
    "## Linear regression with multiple variables"
>>>>>>> a6a710708627d226108486d0a2d712c5d9e39fd8
   ],
   "cell_type": "markdown",
   "metadata": {}
  },
  {
   "source": [
<<<<<<< HEAD
    "- In this part, you will implement linear regression with multiple variables to predict the prices of houses. Suppose you are selling your house and you want to know what a good market price would be. One way to do this is to first collect information on recent houses sold and make a model of housing\n",
    "prices.\n",
    "- The \ffile ex1data2.txt contains a training set of housing prices in Portland, Oregon. The \ffirst column is the size of the house (in square feet), the second column is the number of bedrooms, and the third column is the price of the house."
=======
    "In this part, you will implement linear regression with multiple variables to predict the prices of houses. Suppose you are selling your house and you want to know what a good market price would be. One way to do this is to first collect information on recent houses sold and make a model of housing\n",
    "prices. The \ffile ex1data2.txt contains a training set of housing prices in Portland, Oregon. The \ffirst column is the size of the house (in square feet), the second column is the number of bedrooms, and the third column is the price of the house."
>>>>>>> a6a710708627d226108486d0a2d712c5d9e39fd8
   ],
   "cell_type": "markdown",
   "metadata": {}
  },
  {
<<<<<<< HEAD
   "source": [
    "## 1. Extract Data from Github"
   ],
   "cell_type": "markdown",
   "metadata": {}
  },
  {
   "cell_type": "code",
   "execution_count": 2,
   "metadata": {},
   "outputs": [],
   "source": [
    "url1 = 'https://raw.githubusercontent.com/SiyuYang-1919/Coursera-ML-AndrewNg-Notes/master/code/ex1-linear%20regression/ex1data2.txt'\n",
    "data1 = pd.read_csv(url1, delimiter=',', header=None)"
   ]
  },
  {
   "cell_type": "code",
   "execution_count": 3,
   "metadata": {},
   "outputs": [
    {
     "output_type": "execute_result",
     "data": {
      "text/plain": [
       "      0  1       2\n",
       "0  2104  3  399900\n",
       "1  1600  3  329900\n",
       "2  2400  3  369000\n",
       "3  1416  2  232000\n",
       "4  3000  4  539900"
      ],
      "text/html": "<div>\n<style scoped>\n    .dataframe tbody tr th:only-of-type {\n        vertical-align: middle;\n    }\n\n    .dataframe tbody tr th {\n        vertical-align: top;\n    }\n\n    .dataframe thead th {\n        text-align: right;\n    }\n</style>\n<table border=\"1\" class=\"dataframe\">\n  <thead>\n    <tr style=\"text-align: right;\">\n      <th></th>\n      <th>0</th>\n      <th>1</th>\n      <th>2</th>\n    </tr>\n  </thead>\n  <tbody>\n    <tr>\n      <th>0</th>\n      <td>2104</td>\n      <td>3</td>\n      <td>399900</td>\n    </tr>\n    <tr>\n      <th>1</th>\n      <td>1600</td>\n      <td>3</td>\n      <td>329900</td>\n    </tr>\n    <tr>\n      <th>2</th>\n      <td>2400</td>\n      <td>3</td>\n      <td>369000</td>\n    </tr>\n    <tr>\n      <th>3</th>\n      <td>1416</td>\n      <td>2</td>\n      <td>232000</td>\n    </tr>\n    <tr>\n      <th>4</th>\n      <td>3000</td>\n      <td>4</td>\n      <td>539900</td>\n    </tr>\n  </tbody>\n</table>\n</div>"
     },
     "metadata": {},
     "execution_count": 3
    }
   ],
   "source": [
    "data1.head()"
   ]
  },
  {
   "cell_type": "code",
   "execution_count": 5,
   "metadata": {},
   "outputs": [],
   "source": [
    "lrmv = data1.rename(columns={0: 'Size(squre feet)', 1: 'Bedroom number', 2: 'House price'})"
   ]
  },
  {
   "source": [
    "## 2. Plotting the Data"
   ],
   "cell_type": "markdown",
   "metadata": {}
  },
  {
   "cell_type": "code",
   "execution_count": 6,
   "metadata": {},
   "outputs": [
    {
     "output_type": "execute_result",
     "data": {
      "text/plain": [
       "Text(0, 0.5, 'House price')"
      ]
     },
     "metadata": {},
     "execution_count": 6
    },
    {
     "output_type": "display_data",
     "data": {
      "text/plain": "<Figure size 720x432 with 1 Axes>",
      "image/svg+xml": "<?xml version=\"1.0\" encoding=\"utf-8\" standalone=\"no\"?>\n<!DOCTYPE svg PUBLIC \"-//W3C//DTD SVG 1.1//EN\"\n  \"http://www.w3.org/Graphics/SVG/1.1/DTD/svg11.dtd\">\n<!-- Created with matplotlib (https://matplotlib.org/) -->\n<svg height=\"370.91625pt\" version=\"1.1\" viewBox=\"0 0 631.253125 370.91625\" width=\"631.253125pt\" xmlns=\"http://www.w3.org/2000/svg\" xmlns:xlink=\"http://www.w3.org/1999/xlink\">\n <defs>\n  <style type=\"text/css\">\n*{stroke-linecap:butt;stroke-linejoin:round;}\n  </style>\n </defs>\n <g id=\"figure_1\">\n  <g id=\"patch_1\">\n   <path d=\"M 0 370.91625 \nL 631.253125 370.91625 \nL 631.253125 0 \nL 0 0 \nz\n\" style=\"fill:none;\"/>\n  </g>\n  <g id=\"axes_1\">\n   <g id=\"patch_2\">\n    <path d=\"M 66.053125 333.36 \nL 624.053125 333.36 \nL 624.053125 7.2 \nL 66.053125 7.2 \nz\n\" style=\"fill:#ffffff;\"/>\n   </g>\n   <g id=\"PathCollection_1\">\n    <defs>\n     <path d=\"M -3 3 \nL 3 -3 \nM -3 -3 \nL 3 3 \n\" id=\"m02cb7cf0fc\" style=\"stroke:#1e90ff;stroke-width:1.5;\"/>\n    </defs>\n    <g clip-path=\"url(#p9f75ab0884)\">\n     <use style=\"fill:#1e90ff;stroke:#1e90ff;stroke-width:1.5;\" x=\"266.569948\" xlink:href=\"#m02cb7cf0fc\" y=\"189.860789\"/>\n     <use style=\"fill:#1e90ff;stroke:#1e90ff;stroke-width:1.5;\" x=\"196.060997\" xlink:href=\"#m02cb7cf0fc\" y=\"229.022367\"/>\n     <use style=\"fill:#1e90ff;stroke:#1e90ff;stroke-width:1.5;\" x=\"307.979966\" xlink:href=\"#m02cb7cf0fc\" y=\"207.147828\"/>\n     <use style=\"fill:#1e90ff;stroke:#1e90ff;stroke-width:1.5;\" x=\"170.319635\" xlink:href=\"#m02cb7cf0fc\" y=\"283.792631\"/>\n     <use style=\"fill:#1e90ff;stroke:#1e90ff;stroke-width:1.5;\" x=\"391.919193\" xlink:href=\"#m02cb7cf0fc\" y=\"111.537633\"/>\n     <use style=\"fill:#1e90ff;stroke:#1e90ff;stroke-width:1.5;\" x=\"249.922001\" xlink:href=\"#m02cb7cf0fc\" y=\"245.805901\"/>\n     <use style=\"fill:#1e90ff;stroke:#1e90ff;stroke-width:1.5;\" x=\"186.827682\" xlink:href=\"#m02cb7cf0fc\" y=\"237.414134\"/>\n     <use style=\"fill:#1e90ff;stroke:#1e90ff;stroke-width:1.5;\" x=\"171.85852\" xlink:href=\"#m02cb7cf0fc\" y=\"302.255077\"/>\n     <use style=\"fill:#1e90ff;stroke:#1e90ff;stroke-width:1.5;\" x=\"165.283281\" xlink:href=\"#m02cb7cf0fc\" y=\"294.981654\"/>\n     <use style=\"fill:#1e90ff;stroke:#1e90ff;stroke-width:1.5;\" x=\"181.231734\" xlink:href=\"#m02cb7cf0fc\" y=\"277.918395\"/>\n     <use style=\"fill:#1e90ff;stroke:#1e90ff;stroke-width:1.5;\" x=\"243.626559\" xlink:href=\"#m02cb7cf0fc\" y=\"279.317582\"/>\n     <use style=\"fill:#1e90ff;stroke:#1e90ff;stroke-width:1.5;\" x=\"252.020482\" xlink:href=\"#m02cb7cf0fc\" y=\"219.455753\"/>\n     <use style=\"fill:#1e90ff;stroke:#1e90ff;stroke-width:1.5;\" x=\"236.631624\" xlink:href=\"#m02cb7cf0fc\" y=\"228.966981\"/>\n     <use style=\"fill:#1e90ff;stroke:#1e90ff;stroke-width:1.5;\" x=\"598.689489\" xlink:href=\"#m02cb7cf0fc\" y=\"22.025455\"/>\n     <use style=\"fill:#1e90ff;stroke:#1e90ff;stroke-width:1.5;\" x=\"149.614625\" xlink:href=\"#m02cb7cf0fc\" y=\"268.183945\"/>\n     <use style=\"fill:#1e90ff;stroke:#1e90ff;stroke-width:1.5;\" x=\"293.990095\" xlink:href=\"#m02cb7cf0fc\" y=\"161.888233\"/>\n     <use style=\"fill:#1e90ff;stroke:#1e90ff;stroke-width:1.5;\" x=\"156.889358\" xlink:href=\"#m02cb7cf0fc\" y=\"245.805901\"/>\n     <use style=\"fill:#1e90ff;stroke:#1e90ff;stroke-width:1.5;\" x=\"145.137867\" xlink:href=\"#m02cb7cf0fc\" y=\"301.751012\"/>\n     <use style=\"fill:#1e90ff;stroke:#1e90ff;stroke-width:1.5;\" x=\"337.218797\" xlink:href=\"#m02cb7cf0fc\" y=\"133.860851\"/>\n     <use style=\"fill:#1e90ff;stroke:#1e90ff;stroke-width:1.5;\" x=\"396.256053\" xlink:href=\"#m02cb7cf0fc\" y=\"78.474072\"/>\n     <use style=\"fill:#1e90ff;stroke:#1e90ff;stroke-width:1.5;\" x=\"219.424082\" xlink:href=\"#m02cb7cf0fc\" y=\"272.100103\"/>\n     <use style=\"fill:#1e90ff;stroke:#1e90ff;stroke-width:1.5;\" x=\"236.351826\" xlink:href=\"#m02cb7cf0fc\" y=\"270.925256\"/>\n     <use style=\"fill:#1e90ff;stroke:#1e90ff;stroke-width:1.5;\" x=\"196.620592\" xlink:href=\"#m02cb7cf0fc\" y=\"277.694614\"/>\n     <use style=\"fill:#1e90ff;stroke:#1e90ff;stroke-width:1.5;\" x=\"246.704331\" xlink:href=\"#m02cb7cf0fc\" y=\"268.183945\"/>\n     <use style=\"fill:#1e90ff;stroke:#1e90ff;stroke-width:1.5;\" x=\"516.429046\" xlink:href=\"#m02cb7cf0fc\" y=\"92.516295\"/>\n     <use style=\"fill:#1e90ff;stroke:#1e90ff;stroke-width:1.5;\" x=\"126.111642\" xlink:href=\"#m02cb7cf0fc\" y=\"273.778456\"/>\n     <use style=\"fill:#1e90ff;stroke:#1e90ff;stroke-width:1.5;\" x=\"176.19538\" xlink:href=\"#m02cb7cf0fc\" y=\"153.720247\"/>\n     <use style=\"fill:#1e90ff;stroke:#1e90ff;stroke-width:1.5;\" x=\"325.607204\" xlink:href=\"#m02cb7cf0fc\" y=\"151.202717\"/>\n     <use style=\"fill:#1e90ff;stroke:#1e90ff;stroke-width:1.5;\" x=\"280.000224\" xlink:href=\"#m02cb7cf0fc\" y=\"147.84601\"/>\n     <use style=\"fill:#1e90ff;stroke:#1e90ff;stroke-width:1.5;\" x=\"341.135961\" xlink:href=\"#m02cb7cf0fc\" y=\"245.805901\"/>\n     <use style=\"fill:#1e90ff;stroke:#1e90ff;stroke-width:1.5;\" x=\"229.496789\" xlink:href=\"#m02cb7cf0fc\" y=\"217.833345\"/>\n     <use style=\"fill:#1e90ff;stroke:#1e90ff;stroke-width:1.5;\" x=\"112.121771\" xlink:href=\"#m02cb7cf0fc\" y=\"318.534545\"/>\n     <use style=\"fill:#1e90ff;stroke:#1e90ff;stroke-width:1.5;\" x=\"257.61643\" xlink:href=\"#m02cb7cf0fc\" y=\"237.414134\"/>\n     <use style=\"fill:#1e90ff;stroke:#1e90ff;stroke-width:1.5;\" x=\"411.085317\" xlink:href=\"#m02cb7cf0fc\" y=\"89.159588\"/>\n     <use style=\"fill:#1e90ff;stroke:#1e90ff;stroke-width:1.5;\" x=\"225.579626\" xlink:href=\"#m02cb7cf0fc\" y=\"253.638216\"/>\n     <use style=\"fill:#1e90ff;stroke:#1e90ff;stroke-width:1.5;\" x=\"173.257507\" xlink:href=\"#m02cb7cf0fc\" y=\"273.778456\"/>\n     <use style=\"fill:#1e90ff;stroke:#1e90ff;stroke-width:1.5;\" x=\"145.557563\" xlink:href=\"#m02cb7cf0fc\" y=\"284.967479\"/>\n     <use style=\"fill:#1e90ff;stroke:#1e90ff;stroke-width:1.5;\" x=\"270.487112\" xlink:href=\"#m02cb7cf0fc\" y=\"220.574655\"/>\n     <use style=\"fill:#1e90ff;stroke:#1e90ff;stroke-width:1.5;\" x=\"561.896128\" xlink:href=\"#m02cb7cf0fc\" y=\"106.446628\"/>\n     <use style=\"fill:#1e90ff;stroke:#1e90ff;stroke-width:1.5;\" x=\"274.684073\" xlink:href=\"#m02cb7cf0fc\" y=\"253.02282\"/>\n     <use style=\"fill:#1e90ff;stroke:#1e90ff;stroke-width:1.5;\" x=\"205.014515\" xlink:href=\"#m02cb7cf0fc\" y=\"207.427554\"/>\n     <use style=\"fill:#1e90ff;stroke:#1e90ff;stroke-width:1.5;\" x=\"285.316375\" xlink:href=\"#m02cb7cf0fc\" y=\"229.022367\"/>\n     <use style=\"fill:#1e90ff;stroke:#1e90ff;stroke-width:1.5;\" x=\"331.343051\" xlink:href=\"#m02cb7cf0fc\" y=\"237.91764\"/>\n     <use style=\"fill:#1e90ff;stroke:#1e90ff;stroke-width:1.5;\" x=\"140.101513\" xlink:href=\"#m02cb7cf0fc\" y=\"246.309407\"/>\n     <use style=\"fill:#1e90ff;stroke:#1e90ff;stroke-width:1.5;\" x=\"91.416761\" xlink:href=\"#m02cb7cf0fc\" y=\"312.940034\"/>\n     <use style=\"fill:#1e90ff;stroke:#1e90ff;stroke-width:1.5;\" x=\"231.315473\" xlink:href=\"#m02cb7cf0fc\" y=\"245.805901\"/>\n     <use style=\"fill:#1e90ff;stroke:#1e90ff;stroke-width:1.5;\" x=\"140.521209\" xlink:href=\"#m02cb7cf0fc\" y=\"279.596748\"/>\n    </g>\n   </g>\n   <g id=\"matplotlib.axis_1\">\n    <g id=\"xtick_1\">\n     <g id=\"line2d_1\">\n      <defs>\n       <path d=\"M 0 0 \nL 0 3.5 \n\" id=\"mbf6e8dbee9\" style=\"stroke:#000000;stroke-width:0.8;\"/>\n      </defs>\n      <g>\n       <use style=\"stroke:#000000;stroke-width:0.8;\" x=\"112.121771\" xlink:href=\"#mbf6e8dbee9\" y=\"333.36\"/>\n      </g>\n     </g>\n     <g id=\"text_1\">\n      <!-- 1000 -->\n      <defs>\n       <path d=\"M 12.40625 8.296875 \nL 28.515625 8.296875 \nL 28.515625 63.921875 \nL 10.984375 60.40625 \nL 10.984375 69.390625 \nL 28.421875 72.90625 \nL 38.28125 72.90625 \nL 38.28125 8.296875 \nL 54.390625 8.296875 \nL 54.390625 0 \nL 12.40625 0 \nz\n\" id=\"DejaVuSans-49\"/>\n       <path d=\"M 31.78125 66.40625 \nQ 24.171875 66.40625 20.328125 58.90625 \nQ 16.5 51.421875 16.5 36.375 \nQ 16.5 21.390625 20.328125 13.890625 \nQ 24.171875 6.390625 31.78125 6.390625 \nQ 39.453125 6.390625 43.28125 13.890625 \nQ 47.125 21.390625 47.125 36.375 \nQ 47.125 51.421875 43.28125 58.90625 \nQ 39.453125 66.40625 31.78125 66.40625 \nz\nM 31.78125 74.21875 \nQ 44.046875 74.21875 50.515625 64.515625 \nQ 56.984375 54.828125 56.984375 36.375 \nQ 56.984375 17.96875 50.515625 8.265625 \nQ 44.046875 -1.421875 31.78125 -1.421875 \nQ 19.53125 -1.421875 13.0625 8.265625 \nQ 6.59375 17.96875 6.59375 36.375 \nQ 6.59375 54.828125 13.0625 64.515625 \nQ 19.53125 74.21875 31.78125 74.21875 \nz\n\" id=\"DejaVuSans-48\"/>\n      </defs>\n      <g transform=\"translate(99.396771 347.958438)scale(0.1 -0.1)\">\n       <use xlink:href=\"#DejaVuSans-49\"/>\n       <use x=\"63.623047\" xlink:href=\"#DejaVuSans-48\"/>\n       <use x=\"127.246094\" xlink:href=\"#DejaVuSans-48\"/>\n       <use x=\"190.869141\" xlink:href=\"#DejaVuSans-48\"/>\n      </g>\n     </g>\n    </g>\n    <g id=\"xtick_2\">\n     <g id=\"line2d_2\">\n      <g>\n       <use style=\"stroke:#000000;stroke-width:0.8;\" x=\"182.071126\" xlink:href=\"#mbf6e8dbee9\" y=\"333.36\"/>\n      </g>\n     </g>\n     <g id=\"text_2\">\n      <!-- 1500 -->\n      <defs>\n       <path d=\"M 10.796875 72.90625 \nL 49.515625 72.90625 \nL 49.515625 64.59375 \nL 19.828125 64.59375 \nL 19.828125 46.734375 \nQ 21.96875 47.46875 24.109375 47.828125 \nQ 26.265625 48.1875 28.421875 48.1875 \nQ 40.625 48.1875 47.75 41.5 \nQ 54.890625 34.8125 54.890625 23.390625 \nQ 54.890625 11.625 47.5625 5.09375 \nQ 40.234375 -1.421875 26.90625 -1.421875 \nQ 22.3125 -1.421875 17.546875 -0.640625 \nQ 12.796875 0.140625 7.71875 1.703125 \nL 7.71875 11.625 \nQ 12.109375 9.234375 16.796875 8.0625 \nQ 21.484375 6.890625 26.703125 6.890625 \nQ 35.15625 6.890625 40.078125 11.328125 \nQ 45.015625 15.765625 45.015625 23.390625 \nQ 45.015625 31 40.078125 35.4375 \nQ 35.15625 39.890625 26.703125 39.890625 \nQ 22.75 39.890625 18.8125 39.015625 \nQ 14.890625 38.140625 10.796875 36.28125 \nz\n\" id=\"DejaVuSans-53\"/>\n      </defs>\n      <g transform=\"translate(169.346126 347.958438)scale(0.1 -0.1)\">\n       <use xlink:href=\"#DejaVuSans-49\"/>\n       <use x=\"63.623047\" xlink:href=\"#DejaVuSans-53\"/>\n       <use x=\"127.246094\" xlink:href=\"#DejaVuSans-48\"/>\n       <use x=\"190.869141\" xlink:href=\"#DejaVuSans-48\"/>\n      </g>\n     </g>\n    </g>\n    <g id=\"xtick_3\">\n     <g id=\"line2d_3\">\n      <g>\n       <use style=\"stroke:#000000;stroke-width:0.8;\" x=\"252.020482\" xlink:href=\"#mbf6e8dbee9\" y=\"333.36\"/>\n      </g>\n     </g>\n     <g id=\"text_3\">\n      <!-- 2000 -->\n      <defs>\n       <path d=\"M 19.1875 8.296875 \nL 53.609375 8.296875 \nL 53.609375 0 \nL 7.328125 0 \nL 7.328125 8.296875 \nQ 12.9375 14.109375 22.625 23.890625 \nQ 32.328125 33.6875 34.8125 36.53125 \nQ 39.546875 41.84375 41.421875 45.53125 \nQ 43.3125 49.21875 43.3125 52.78125 \nQ 43.3125 58.59375 39.234375 62.25 \nQ 35.15625 65.921875 28.609375 65.921875 \nQ 23.96875 65.921875 18.8125 64.3125 \nQ 13.671875 62.703125 7.8125 59.421875 \nL 7.8125 69.390625 \nQ 13.765625 71.78125 18.9375 73 \nQ 24.125 74.21875 28.421875 74.21875 \nQ 39.75 74.21875 46.484375 68.546875 \nQ 53.21875 62.890625 53.21875 53.421875 \nQ 53.21875 48.921875 51.53125 44.890625 \nQ 49.859375 40.875 45.40625 35.40625 \nQ 44.1875 33.984375 37.640625 27.21875 \nQ 31.109375 20.453125 19.1875 8.296875 \nz\n\" id=\"DejaVuSans-50\"/>\n      </defs>\n      <g transform=\"translate(239.295482 347.958438)scale(0.1 -0.1)\">\n       <use xlink:href=\"#DejaVuSans-50\"/>\n       <use x=\"63.623047\" xlink:href=\"#DejaVuSans-48\"/>\n       <use x=\"127.246094\" xlink:href=\"#DejaVuSans-48\"/>\n       <use x=\"190.869141\" xlink:href=\"#DejaVuSans-48\"/>\n      </g>\n     </g>\n    </g>\n    <g id=\"xtick_4\">\n     <g id=\"line2d_4\">\n      <g>\n       <use style=\"stroke:#000000;stroke-width:0.8;\" x=\"321.969838\" xlink:href=\"#mbf6e8dbee9\" y=\"333.36\"/>\n      </g>\n     </g>\n     <g id=\"text_4\">\n      <!-- 2500 -->\n      <g transform=\"translate(309.244838 347.958438)scale(0.1 -0.1)\">\n       <use xlink:href=\"#DejaVuSans-50\"/>\n       <use x=\"63.623047\" xlink:href=\"#DejaVuSans-53\"/>\n       <use x=\"127.246094\" xlink:href=\"#DejaVuSans-48\"/>\n       <use x=\"190.869141\" xlink:href=\"#DejaVuSans-48\"/>\n      </g>\n     </g>\n    </g>\n    <g id=\"xtick_5\">\n     <g id=\"line2d_5\">\n      <g>\n       <use style=\"stroke:#000000;stroke-width:0.8;\" x=\"391.919193\" xlink:href=\"#mbf6e8dbee9\" y=\"333.36\"/>\n      </g>\n     </g>\n     <g id=\"text_5\">\n      <!-- 3000 -->\n      <defs>\n       <path d=\"M 40.578125 39.3125 \nQ 47.65625 37.796875 51.625 33 \nQ 55.609375 28.21875 55.609375 21.1875 \nQ 55.609375 10.40625 48.1875 4.484375 \nQ 40.765625 -1.421875 27.09375 -1.421875 \nQ 22.515625 -1.421875 17.65625 -0.515625 \nQ 12.796875 0.390625 7.625 2.203125 \nL 7.625 11.71875 \nQ 11.71875 9.328125 16.59375 8.109375 \nQ 21.484375 6.890625 26.8125 6.890625 \nQ 36.078125 6.890625 40.9375 10.546875 \nQ 45.796875 14.203125 45.796875 21.1875 \nQ 45.796875 27.640625 41.28125 31.265625 \nQ 36.765625 34.90625 28.71875 34.90625 \nL 20.21875 34.90625 \nL 20.21875 43.015625 \nL 29.109375 43.015625 \nQ 36.375 43.015625 40.234375 45.921875 \nQ 44.09375 48.828125 44.09375 54.296875 \nQ 44.09375 59.90625 40.109375 62.90625 \nQ 36.140625 65.921875 28.71875 65.921875 \nQ 24.65625 65.921875 20.015625 65.03125 \nQ 15.375 64.15625 9.8125 62.3125 \nL 9.8125 71.09375 \nQ 15.4375 72.65625 20.34375 73.4375 \nQ 25.25 74.21875 29.59375 74.21875 \nQ 40.828125 74.21875 47.359375 69.109375 \nQ 53.90625 64.015625 53.90625 55.328125 \nQ 53.90625 49.265625 50.4375 45.09375 \nQ 46.96875 40.921875 40.578125 39.3125 \nz\n\" id=\"DejaVuSans-51\"/>\n      </defs>\n      <g transform=\"translate(379.194193 347.958438)scale(0.1 -0.1)\">\n       <use xlink:href=\"#DejaVuSans-51\"/>\n       <use x=\"63.623047\" xlink:href=\"#DejaVuSans-48\"/>\n       <use x=\"127.246094\" xlink:href=\"#DejaVuSans-48\"/>\n       <use x=\"190.869141\" xlink:href=\"#DejaVuSans-48\"/>\n      </g>\n     </g>\n    </g>\n    <g id=\"xtick_6\">\n     <g id=\"line2d_6\">\n      <g>\n       <use style=\"stroke:#000000;stroke-width:0.8;\" x=\"461.868549\" xlink:href=\"#mbf6e8dbee9\" y=\"333.36\"/>\n      </g>\n     </g>\n     <g id=\"text_6\">\n      <!-- 3500 -->\n      <g transform=\"translate(449.143549 347.958438)scale(0.1 -0.1)\">\n       <use xlink:href=\"#DejaVuSans-51\"/>\n       <use x=\"63.623047\" xlink:href=\"#DejaVuSans-53\"/>\n       <use x=\"127.246094\" xlink:href=\"#DejaVuSans-48\"/>\n       <use x=\"190.869141\" xlink:href=\"#DejaVuSans-48\"/>\n      </g>\n     </g>\n    </g>\n    <g id=\"xtick_7\">\n     <g id=\"line2d_7\">\n      <g>\n       <use style=\"stroke:#000000;stroke-width:0.8;\" x=\"531.817905\" xlink:href=\"#mbf6e8dbee9\" y=\"333.36\"/>\n      </g>\n     </g>\n     <g id=\"text_7\">\n      <!-- 4000 -->\n      <defs>\n       <path d=\"M 37.796875 64.3125 \nL 12.890625 25.390625 \nL 37.796875 25.390625 \nz\nM 35.203125 72.90625 \nL 47.609375 72.90625 \nL 47.609375 25.390625 \nL 58.015625 25.390625 \nL 58.015625 17.1875 \nL 47.609375 17.1875 \nL 47.609375 0 \nL 37.796875 0 \nL 37.796875 17.1875 \nL 4.890625 17.1875 \nL 4.890625 26.703125 \nz\n\" id=\"DejaVuSans-52\"/>\n      </defs>\n      <g transform=\"translate(519.092905 347.958438)scale(0.1 -0.1)\">\n       <use xlink:href=\"#DejaVuSans-52\"/>\n       <use x=\"63.623047\" xlink:href=\"#DejaVuSans-48\"/>\n       <use x=\"127.246094\" xlink:href=\"#DejaVuSans-48\"/>\n       <use x=\"190.869141\" xlink:href=\"#DejaVuSans-48\"/>\n      </g>\n     </g>\n    </g>\n    <g id=\"xtick_8\">\n     <g id=\"line2d_8\">\n      <g>\n       <use style=\"stroke:#000000;stroke-width:0.8;\" x=\"601.76726\" xlink:href=\"#mbf6e8dbee9\" y=\"333.36\"/>\n      </g>\n     </g>\n     <g id=\"text_8\">\n      <!-- 4500 -->\n      <g transform=\"translate(589.04226 347.958438)scale(0.1 -0.1)\">\n       <use xlink:href=\"#DejaVuSans-52\"/>\n       <use x=\"63.623047\" xlink:href=\"#DejaVuSans-53\"/>\n       <use x=\"127.246094\" xlink:href=\"#DejaVuSans-48\"/>\n       <use x=\"190.869141\" xlink:href=\"#DejaVuSans-48\"/>\n      </g>\n     </g>\n    </g>\n    <g id=\"text_9\">\n     <!-- House Size(squre feet) -->\n     <defs>\n      <path d=\"M 9.8125 72.90625 \nL 19.671875 72.90625 \nL 19.671875 43.015625 \nL 55.515625 43.015625 \nL 55.515625 72.90625 \nL 65.375 72.90625 \nL 65.375 0 \nL 55.515625 0 \nL 55.515625 34.71875 \nL 19.671875 34.71875 \nL 19.671875 0 \nL 9.8125 0 \nz\n\" id=\"DejaVuSans-72\"/>\n      <path d=\"M 30.609375 48.390625 \nQ 23.390625 48.390625 19.1875 42.75 \nQ 14.984375 37.109375 14.984375 27.296875 \nQ 14.984375 17.484375 19.15625 11.84375 \nQ 23.34375 6.203125 30.609375 6.203125 \nQ 37.796875 6.203125 41.984375 11.859375 \nQ 46.1875 17.53125 46.1875 27.296875 \nQ 46.1875 37.015625 41.984375 42.703125 \nQ 37.796875 48.390625 30.609375 48.390625 \nz\nM 30.609375 56 \nQ 42.328125 56 49.015625 48.375 \nQ 55.71875 40.765625 55.71875 27.296875 \nQ 55.71875 13.875 49.015625 6.21875 \nQ 42.328125 -1.421875 30.609375 -1.421875 \nQ 18.84375 -1.421875 12.171875 6.21875 \nQ 5.515625 13.875 5.515625 27.296875 \nQ 5.515625 40.765625 12.171875 48.375 \nQ 18.84375 56 30.609375 56 \nz\n\" id=\"DejaVuSans-111\"/>\n      <path d=\"M 8.5 21.578125 \nL 8.5 54.6875 \nL 17.484375 54.6875 \nL 17.484375 21.921875 \nQ 17.484375 14.15625 20.5 10.265625 \nQ 23.53125 6.390625 29.59375 6.390625 \nQ 36.859375 6.390625 41.078125 11.03125 \nQ 45.3125 15.671875 45.3125 23.6875 \nL 45.3125 54.6875 \nL 54.296875 54.6875 \nL 54.296875 0 \nL 45.3125 0 \nL 45.3125 8.40625 \nQ 42.046875 3.421875 37.71875 1 \nQ 33.40625 -1.421875 27.6875 -1.421875 \nQ 18.265625 -1.421875 13.375 4.4375 \nQ 8.5 10.296875 8.5 21.578125 \nz\nM 31.109375 56 \nz\n\" id=\"DejaVuSans-117\"/>\n      <path d=\"M 44.28125 53.078125 \nL 44.28125 44.578125 \nQ 40.484375 46.53125 36.375 47.5 \nQ 32.28125 48.484375 27.875 48.484375 \nQ 21.1875 48.484375 17.84375 46.4375 \nQ 14.5 44.390625 14.5 40.28125 \nQ 14.5 37.15625 16.890625 35.375 \nQ 19.28125 33.59375 26.515625 31.984375 \nL 29.59375 31.296875 \nQ 39.15625 29.25 43.1875 25.515625 \nQ 47.21875 21.78125 47.21875 15.09375 \nQ 47.21875 7.46875 41.1875 3.015625 \nQ 35.15625 -1.421875 24.609375 -1.421875 \nQ 20.21875 -1.421875 15.453125 -0.5625 \nQ 10.6875 0.296875 5.421875 2 \nL 5.421875 11.28125 \nQ 10.40625 8.6875 15.234375 7.390625 \nQ 20.0625 6.109375 24.8125 6.109375 \nQ 31.15625 6.109375 34.5625 8.28125 \nQ 37.984375 10.453125 37.984375 14.40625 \nQ 37.984375 18.0625 35.515625 20.015625 \nQ 33.0625 21.96875 24.703125 23.78125 \nL 21.578125 24.515625 \nQ 13.234375 26.265625 9.515625 29.90625 \nQ 5.8125 33.546875 5.8125 39.890625 \nQ 5.8125 47.609375 11.28125 51.796875 \nQ 16.75 56 26.8125 56 \nQ 31.78125 56 36.171875 55.265625 \nQ 40.578125 54.546875 44.28125 53.078125 \nz\n\" id=\"DejaVuSans-115\"/>\n      <path d=\"M 56.203125 29.59375 \nL 56.203125 25.203125 \nL 14.890625 25.203125 \nQ 15.484375 15.921875 20.484375 11.0625 \nQ 25.484375 6.203125 34.421875 6.203125 \nQ 39.59375 6.203125 44.453125 7.46875 \nQ 49.3125 8.734375 54.109375 11.28125 \nL 54.109375 2.78125 \nQ 49.265625 0.734375 44.1875 -0.34375 \nQ 39.109375 -1.421875 33.890625 -1.421875 \nQ 20.796875 -1.421875 13.15625 6.1875 \nQ 5.515625 13.8125 5.515625 26.8125 \nQ 5.515625 40.234375 12.765625 48.109375 \nQ 20.015625 56 32.328125 56 \nQ 43.359375 56 49.78125 48.890625 \nQ 56.203125 41.796875 56.203125 29.59375 \nz\nM 47.21875 32.234375 \nQ 47.125 39.59375 43.09375 43.984375 \nQ 39.0625 48.390625 32.421875 48.390625 \nQ 24.90625 48.390625 20.390625 44.140625 \nQ 15.875 39.890625 15.1875 32.171875 \nz\n\" id=\"DejaVuSans-101\"/>\n      <path id=\"DejaVuSans-32\"/>\n      <path d=\"M 53.515625 70.515625 \nL 53.515625 60.890625 \nQ 47.90625 63.578125 42.921875 64.890625 \nQ 37.9375 66.21875 33.296875 66.21875 \nQ 25.25 66.21875 20.875 63.09375 \nQ 16.5 59.96875 16.5 54.203125 \nQ 16.5 49.359375 19.40625 46.890625 \nQ 22.3125 44.4375 30.421875 42.921875 \nL 36.375 41.703125 \nQ 47.40625 39.59375 52.65625 34.296875 \nQ 57.90625 29 57.90625 20.125 \nQ 57.90625 9.515625 50.796875 4.046875 \nQ 43.703125 -1.421875 29.984375 -1.421875 \nQ 24.8125 -1.421875 18.96875 -0.25 \nQ 13.140625 0.921875 6.890625 3.21875 \nL 6.890625 13.375 \nQ 12.890625 10.015625 18.65625 8.296875 \nQ 24.421875 6.59375 29.984375 6.59375 \nQ 38.421875 6.59375 43.015625 9.90625 \nQ 47.609375 13.234375 47.609375 19.390625 \nQ 47.609375 24.75 44.3125 27.78125 \nQ 41.015625 30.8125 33.5 32.328125 \nL 27.484375 33.5 \nQ 16.453125 35.6875 11.515625 40.375 \nQ 6.59375 45.0625 6.59375 53.421875 \nQ 6.59375 63.09375 13.40625 68.65625 \nQ 20.21875 74.21875 32.171875 74.21875 \nQ 37.3125 74.21875 42.625 73.28125 \nQ 47.953125 72.359375 53.515625 70.515625 \nz\n\" id=\"DejaVuSans-83\"/>\n      <path d=\"M 9.421875 54.6875 \nL 18.40625 54.6875 \nL 18.40625 0 \nL 9.421875 0 \nz\nM 9.421875 75.984375 \nL 18.40625 75.984375 \nL 18.40625 64.59375 \nL 9.421875 64.59375 \nz\n\" id=\"DejaVuSans-105\"/>\n      <path d=\"M 5.515625 54.6875 \nL 48.1875 54.6875 \nL 48.1875 46.484375 \nL 14.40625 7.171875 \nL 48.1875 7.171875 \nL 48.1875 0 \nL 4.296875 0 \nL 4.296875 8.203125 \nL 38.09375 47.515625 \nL 5.515625 47.515625 \nz\n\" id=\"DejaVuSans-122\"/>\n      <path d=\"M 31 75.875 \nQ 24.46875 64.65625 21.28125 53.65625 \nQ 18.109375 42.671875 18.109375 31.390625 \nQ 18.109375 20.125 21.3125 9.0625 \nQ 24.515625 -2 31 -13.1875 \nL 23.1875 -13.1875 \nQ 15.875 -1.703125 12.234375 9.375 \nQ 8.59375 20.453125 8.59375 31.390625 \nQ 8.59375 42.28125 12.203125 53.3125 \nQ 15.828125 64.359375 23.1875 75.875 \nz\n\" id=\"DejaVuSans-40\"/>\n      <path d=\"M 14.796875 27.296875 \nQ 14.796875 17.390625 18.875 11.75 \nQ 22.953125 6.109375 30.078125 6.109375 \nQ 37.203125 6.109375 41.296875 11.75 \nQ 45.40625 17.390625 45.40625 27.296875 \nQ 45.40625 37.203125 41.296875 42.84375 \nQ 37.203125 48.484375 30.078125 48.484375 \nQ 22.953125 48.484375 18.875 42.84375 \nQ 14.796875 37.203125 14.796875 27.296875 \nz\nM 45.40625 8.203125 \nQ 42.578125 3.328125 38.25 0.953125 \nQ 33.9375 -1.421875 27.875 -1.421875 \nQ 17.96875 -1.421875 11.734375 6.484375 \nQ 5.515625 14.40625 5.515625 27.296875 \nQ 5.515625 40.1875 11.734375 48.09375 \nQ 17.96875 56 27.875 56 \nQ 33.9375 56 38.25 53.625 \nQ 42.578125 51.265625 45.40625 46.390625 \nL 45.40625 54.6875 \nL 54.390625 54.6875 \nL 54.390625 -20.796875 \nL 45.40625 -20.796875 \nz\n\" id=\"DejaVuSans-113\"/>\n      <path d=\"M 41.109375 46.296875 \nQ 39.59375 47.171875 37.8125 47.578125 \nQ 36.03125 48 33.890625 48 \nQ 26.265625 48 22.1875 43.046875 \nQ 18.109375 38.09375 18.109375 28.8125 \nL 18.109375 0 \nL 9.078125 0 \nL 9.078125 54.6875 \nL 18.109375 54.6875 \nL 18.109375 46.1875 \nQ 20.953125 51.171875 25.484375 53.578125 \nQ 30.03125 56 36.53125 56 \nQ 37.453125 56 38.578125 55.875 \nQ 39.703125 55.765625 41.0625 55.515625 \nz\n\" id=\"DejaVuSans-114\"/>\n      <path d=\"M 37.109375 75.984375 \nL 37.109375 68.5 \nL 28.515625 68.5 \nQ 23.6875 68.5 21.796875 66.546875 \nQ 19.921875 64.59375 19.921875 59.515625 \nL 19.921875 54.6875 \nL 34.71875 54.6875 \nL 34.71875 47.703125 \nL 19.921875 47.703125 \nL 19.921875 0 \nL 10.890625 0 \nL 10.890625 47.703125 \nL 2.296875 47.703125 \nL 2.296875 54.6875 \nL 10.890625 54.6875 \nL 10.890625 58.5 \nQ 10.890625 67.625 15.140625 71.796875 \nQ 19.390625 75.984375 28.609375 75.984375 \nz\n\" id=\"DejaVuSans-102\"/>\n      <path d=\"M 18.3125 70.21875 \nL 18.3125 54.6875 \nL 36.8125 54.6875 \nL 36.8125 47.703125 \nL 18.3125 47.703125 \nL 18.3125 18.015625 \nQ 18.3125 11.328125 20.140625 9.421875 \nQ 21.96875 7.515625 27.59375 7.515625 \nL 36.8125 7.515625 \nL 36.8125 0 \nL 27.59375 0 \nQ 17.1875 0 13.234375 3.875 \nQ 9.28125 7.765625 9.28125 18.015625 \nL 9.28125 47.703125 \nL 2.6875 47.703125 \nL 2.6875 54.6875 \nL 9.28125 54.6875 \nL 9.28125 70.21875 \nz\n\" id=\"DejaVuSans-116\"/>\n      <path d=\"M 8.015625 75.875 \nL 15.828125 75.875 \nQ 23.140625 64.359375 26.78125 53.3125 \nQ 30.421875 42.28125 30.421875 31.390625 \nQ 30.421875 20.453125 26.78125 9.375 \nQ 23.140625 -1.703125 15.828125 -13.1875 \nL 8.015625 -13.1875 \nQ 14.5 -2 17.703125 9.0625 \nQ 20.90625 20.125 20.90625 31.390625 \nQ 20.90625 42.671875 17.703125 53.65625 \nQ 14.5 64.65625 8.015625 75.875 \nz\n\" id=\"DejaVuSans-41\"/>\n     </defs>\n     <g transform=\"translate(288.199219 361.636563)scale(0.1 -0.1)\">\n      <use xlink:href=\"#DejaVuSans-72\"/>\n      <use x=\"75.195312\" xlink:href=\"#DejaVuSans-111\"/>\n      <use x=\"136.376953\" xlink:href=\"#DejaVuSans-117\"/>\n      <use x=\"199.755859\" xlink:href=\"#DejaVuSans-115\"/>\n      <use x=\"251.855469\" xlink:href=\"#DejaVuSans-101\"/>\n      <use x=\"313.378906\" xlink:href=\"#DejaVuSans-32\"/>\n      <use x=\"345.166016\" xlink:href=\"#DejaVuSans-83\"/>\n      <use x=\"408.642578\" xlink:href=\"#DejaVuSans-105\"/>\n      <use x=\"436.425781\" xlink:href=\"#DejaVuSans-122\"/>\n      <use x=\"488.916016\" xlink:href=\"#DejaVuSans-101\"/>\n      <use x=\"550.439453\" xlink:href=\"#DejaVuSans-40\"/>\n      <use x=\"589.453125\" xlink:href=\"#DejaVuSans-115\"/>\n      <use x=\"641.552734\" xlink:href=\"#DejaVuSans-113\"/>\n      <use x=\"705.029297\" xlink:href=\"#DejaVuSans-117\"/>\n      <use x=\"768.408203\" xlink:href=\"#DejaVuSans-114\"/>\n      <use x=\"807.271484\" xlink:href=\"#DejaVuSans-101\"/>\n      <use x=\"868.794922\" xlink:href=\"#DejaVuSans-32\"/>\n      <use x=\"900.582031\" xlink:href=\"#DejaVuSans-102\"/>\n      <use x=\"935.787109\" xlink:href=\"#DejaVuSans-101\"/>\n      <use x=\"997.310547\" xlink:href=\"#DejaVuSans-101\"/>\n      <use x=\"1058.833984\" xlink:href=\"#DejaVuSans-116\"/>\n      <use x=\"1098.042969\" xlink:href=\"#DejaVuSans-41\"/>\n     </g>\n    </g>\n   </g>\n   <g id=\"matplotlib.axis_2\">\n    <g id=\"ytick_1\">\n     <g id=\"line2d_9\">\n      <defs>\n       <path d=\"M 0 0 \nL -3.5 0 \n\" id=\"m2dba14e0bc\" style=\"stroke:#000000;stroke-width:0.8;\"/>\n      </defs>\n      <g>\n       <use style=\"stroke:#000000;stroke-width:0.8;\" x=\"66.053125\" xlink:href=\"#m2dba14e0bc\" y=\"301.695067\"/>\n      </g>\n     </g>\n     <g id=\"text_10\">\n      <!-- 200000 -->\n      <g transform=\"translate(20.878125 305.494286)scale(0.1 -0.1)\">\n       <use xlink:href=\"#DejaVuSans-50\"/>\n       <use x=\"63.623047\" xlink:href=\"#DejaVuSans-48\"/>\n       <use x=\"127.246094\" xlink:href=\"#DejaVuSans-48\"/>\n       <use x=\"190.869141\" xlink:href=\"#DejaVuSans-48\"/>\n       <use x=\"254.492188\" xlink:href=\"#DejaVuSans-48\"/>\n       <use x=\"318.115234\" xlink:href=\"#DejaVuSans-48\"/>\n      </g>\n     </g>\n    </g>\n    <g id=\"ytick_2\">\n     <g id=\"line2d_10\">\n      <g>\n       <use style=\"stroke:#000000;stroke-width:0.8;\" x=\"66.053125\" xlink:href=\"#m2dba14e0bc\" y=\"245.749955\"/>\n      </g>\n     </g>\n     <g id=\"text_11\">\n      <!-- 300000 -->\n      <g transform=\"translate(20.878125 249.549174)scale(0.1 -0.1)\">\n       <use xlink:href=\"#DejaVuSans-51\"/>\n       <use x=\"63.623047\" xlink:href=\"#DejaVuSans-48\"/>\n       <use x=\"127.246094\" xlink:href=\"#DejaVuSans-48\"/>\n       <use x=\"190.869141\" xlink:href=\"#DejaVuSans-48\"/>\n       <use x=\"254.492188\" xlink:href=\"#DejaVuSans-48\"/>\n       <use x=\"318.115234\" xlink:href=\"#DejaVuSans-48\"/>\n      </g>\n     </g>\n    </g>\n    <g id=\"ytick_3\">\n     <g id=\"line2d_11\">\n      <g>\n       <use style=\"stroke:#000000;stroke-width:0.8;\" x=\"66.053125\" xlink:href=\"#m2dba14e0bc\" y=\"189.804844\"/>\n      </g>\n     </g>\n     <g id=\"text_12\">\n      <!-- 400000 -->\n      <g transform=\"translate(20.878125 193.604063)scale(0.1 -0.1)\">\n       <use xlink:href=\"#DejaVuSans-52\"/>\n       <use x=\"63.623047\" xlink:href=\"#DejaVuSans-48\"/>\n       <use x=\"127.246094\" xlink:href=\"#DejaVuSans-48\"/>\n       <use x=\"190.869141\" xlink:href=\"#DejaVuSans-48\"/>\n       <use x=\"254.492188\" xlink:href=\"#DejaVuSans-48\"/>\n       <use x=\"318.115234\" xlink:href=\"#DejaVuSans-48\"/>\n      </g>\n     </g>\n    </g>\n    <g id=\"ytick_4\">\n     <g id=\"line2d_12\">\n      <g>\n       <use style=\"stroke:#000000;stroke-width:0.8;\" x=\"66.053125\" xlink:href=\"#m2dba14e0bc\" y=\"133.859732\"/>\n      </g>\n     </g>\n     <g id=\"text_13\">\n      <!-- 500000 -->\n      <g transform=\"translate(20.878125 137.658951)scale(0.1 -0.1)\">\n       <use xlink:href=\"#DejaVuSans-53\"/>\n       <use x=\"63.623047\" xlink:href=\"#DejaVuSans-48\"/>\n       <use x=\"127.246094\" xlink:href=\"#DejaVuSans-48\"/>\n       <use x=\"190.869141\" xlink:href=\"#DejaVuSans-48\"/>\n       <use x=\"254.492188\" xlink:href=\"#DejaVuSans-48\"/>\n       <use x=\"318.115234\" xlink:href=\"#DejaVuSans-48\"/>\n      </g>\n     </g>\n    </g>\n    <g id=\"ytick_5\">\n     <g id=\"line2d_13\">\n      <g>\n       <use style=\"stroke:#000000;stroke-width:0.8;\" x=\"66.053125\" xlink:href=\"#m2dba14e0bc\" y=\"77.914621\"/>\n      </g>\n     </g>\n     <g id=\"text_14\">\n      <!-- 600000 -->\n      <defs>\n       <path d=\"M 33.015625 40.375 \nQ 26.375 40.375 22.484375 35.828125 \nQ 18.609375 31.296875 18.609375 23.390625 \nQ 18.609375 15.53125 22.484375 10.953125 \nQ 26.375 6.390625 33.015625 6.390625 \nQ 39.65625 6.390625 43.53125 10.953125 \nQ 47.40625 15.53125 47.40625 23.390625 \nQ 47.40625 31.296875 43.53125 35.828125 \nQ 39.65625 40.375 33.015625 40.375 \nz\nM 52.59375 71.296875 \nL 52.59375 62.3125 \nQ 48.875 64.0625 45.09375 64.984375 \nQ 41.3125 65.921875 37.59375 65.921875 \nQ 27.828125 65.921875 22.671875 59.328125 \nQ 17.53125 52.734375 16.796875 39.40625 \nQ 19.671875 43.65625 24.015625 45.921875 \nQ 28.375 48.1875 33.59375 48.1875 \nQ 44.578125 48.1875 50.953125 41.515625 \nQ 57.328125 34.859375 57.328125 23.390625 \nQ 57.328125 12.15625 50.6875 5.359375 \nQ 44.046875 -1.421875 33.015625 -1.421875 \nQ 20.359375 -1.421875 13.671875 8.265625 \nQ 6.984375 17.96875 6.984375 36.375 \nQ 6.984375 53.65625 15.1875 63.9375 \nQ 23.390625 74.21875 37.203125 74.21875 \nQ 40.921875 74.21875 44.703125 73.484375 \nQ 48.484375 72.75 52.59375 71.296875 \nz\n\" id=\"DejaVuSans-54\"/>\n      </defs>\n      <g transform=\"translate(20.878125 81.71384)scale(0.1 -0.1)\">\n       <use xlink:href=\"#DejaVuSans-54\"/>\n       <use x=\"63.623047\" xlink:href=\"#DejaVuSans-48\"/>\n       <use x=\"127.246094\" xlink:href=\"#DejaVuSans-48\"/>\n       <use x=\"190.869141\" xlink:href=\"#DejaVuSans-48\"/>\n       <use x=\"254.492188\" xlink:href=\"#DejaVuSans-48\"/>\n       <use x=\"318.115234\" xlink:href=\"#DejaVuSans-48\"/>\n      </g>\n     </g>\n    </g>\n    <g id=\"ytick_6\">\n     <g id=\"line2d_14\">\n      <g>\n       <use style=\"stroke:#000000;stroke-width:0.8;\" x=\"66.053125\" xlink:href=\"#m2dba14e0bc\" y=\"21.969509\"/>\n      </g>\n     </g>\n     <g id=\"text_15\">\n      <!-- 700000 -->\n      <defs>\n       <path d=\"M 8.203125 72.90625 \nL 55.078125 72.90625 \nL 55.078125 68.703125 \nL 28.609375 0 \nL 18.3125 0 \nL 43.21875 64.59375 \nL 8.203125 64.59375 \nz\n\" id=\"DejaVuSans-55\"/>\n      </defs>\n      <g transform=\"translate(20.878125 25.768728)scale(0.1 -0.1)\">\n       <use xlink:href=\"#DejaVuSans-55\"/>\n       <use x=\"63.623047\" xlink:href=\"#DejaVuSans-48\"/>\n       <use x=\"127.246094\" xlink:href=\"#DejaVuSans-48\"/>\n       <use x=\"190.869141\" xlink:href=\"#DejaVuSans-48\"/>\n       <use x=\"254.492188\" xlink:href=\"#DejaVuSans-48\"/>\n       <use x=\"318.115234\" xlink:href=\"#DejaVuSans-48\"/>\n      </g>\n     </g>\n    </g>\n    <g id=\"text_16\">\n     <!-- House price -->\n     <defs>\n      <path d=\"M 18.109375 8.203125 \nL 18.109375 -20.796875 \nL 9.078125 -20.796875 \nL 9.078125 54.6875 \nL 18.109375 54.6875 \nL 18.109375 46.390625 \nQ 20.953125 51.265625 25.265625 53.625 \nQ 29.59375 56 35.59375 56 \nQ 45.5625 56 51.78125 48.09375 \nQ 58.015625 40.1875 58.015625 27.296875 \nQ 58.015625 14.40625 51.78125 6.484375 \nQ 45.5625 -1.421875 35.59375 -1.421875 \nQ 29.59375 -1.421875 25.265625 0.953125 \nQ 20.953125 3.328125 18.109375 8.203125 \nz\nM 48.6875 27.296875 \nQ 48.6875 37.203125 44.609375 42.84375 \nQ 40.53125 48.484375 33.40625 48.484375 \nQ 26.265625 48.484375 22.1875 42.84375 \nQ 18.109375 37.203125 18.109375 27.296875 \nQ 18.109375 17.390625 22.1875 11.75 \nQ 26.265625 6.109375 33.40625 6.109375 \nQ 40.53125 6.109375 44.609375 11.75 \nQ 48.6875 17.390625 48.6875 27.296875 \nz\n\" id=\"DejaVuSans-112\"/>\n      <path d=\"M 48.78125 52.59375 \nL 48.78125 44.1875 \nQ 44.96875 46.296875 41.140625 47.34375 \nQ 37.3125 48.390625 33.40625 48.390625 \nQ 24.65625 48.390625 19.8125 42.84375 \nQ 14.984375 37.3125 14.984375 27.296875 \nQ 14.984375 17.28125 19.8125 11.734375 \nQ 24.65625 6.203125 33.40625 6.203125 \nQ 37.3125 6.203125 41.140625 7.25 \nQ 44.96875 8.296875 48.78125 10.40625 \nL 48.78125 2.09375 \nQ 45.015625 0.34375 40.984375 -0.53125 \nQ 36.96875 -1.421875 32.421875 -1.421875 \nQ 20.0625 -1.421875 12.78125 6.34375 \nQ 5.515625 14.109375 5.515625 27.296875 \nQ 5.515625 40.671875 12.859375 48.328125 \nQ 20.21875 56 33.015625 56 \nQ 37.15625 56 41.109375 55.140625 \nQ 45.0625 54.296875 48.78125 52.59375 \nz\n\" id=\"DejaVuSans-99\"/>\n     </defs>\n     <g transform=\"translate(14.798438 199.983125)rotate(-90)scale(0.1 -0.1)\">\n      <use xlink:href=\"#DejaVuSans-72\"/>\n      <use x=\"75.195312\" xlink:href=\"#DejaVuSans-111\"/>\n      <use x=\"136.376953\" xlink:href=\"#DejaVuSans-117\"/>\n      <use x=\"199.755859\" xlink:href=\"#DejaVuSans-115\"/>\n      <use x=\"251.855469\" xlink:href=\"#DejaVuSans-101\"/>\n      <use x=\"313.378906\" xlink:href=\"#DejaVuSans-32\"/>\n      <use x=\"345.166016\" xlink:href=\"#DejaVuSans-112\"/>\n      <use x=\"408.642578\" xlink:href=\"#DejaVuSans-114\"/>\n      <use x=\"449.755859\" xlink:href=\"#DejaVuSans-105\"/>\n      <use x=\"477.539062\" xlink:href=\"#DejaVuSans-99\"/>\n      <use x=\"532.519531\" xlink:href=\"#DejaVuSans-101\"/>\n     </g>\n    </g>\n   </g>\n   <g id=\"patch_3\">\n    <path d=\"M 66.053125 333.36 \nL 66.053125 7.2 \n\" style=\"fill:none;stroke:#000000;stroke-linecap:square;stroke-linejoin:miter;stroke-width:0.8;\"/>\n   </g>\n   <g id=\"patch_4\">\n    <path d=\"M 624.053125 333.36 \nL 624.053125 7.2 \n\" style=\"fill:none;stroke:#000000;stroke-linecap:square;stroke-linejoin:miter;stroke-width:0.8;\"/>\n   </g>\n   <g id=\"patch_5\">\n    <path d=\"M 66.053125 333.36 \nL 624.053125 333.36 \n\" style=\"fill:none;stroke:#000000;stroke-linecap:square;stroke-linejoin:miter;stroke-width:0.8;\"/>\n   </g>\n   <g id=\"patch_6\">\n    <path d=\"M 66.053125 7.2 \nL 624.053125 7.2 \n\" style=\"fill:none;stroke:#000000;stroke-linecap:square;stroke-linejoin:miter;stroke-width:0.8;\"/>\n   </g>\n  </g>\n </g>\n <defs>\n  <clipPath id=\"p9f75ab0884\">\n   <rect height=\"326.16\" width=\"558\" x=\"66.053125\" y=\"7.2\"/>\n  </clipPath>\n </defs>\n</svg>\n",
      "image/png": "iVBORw0KGgoAAAANSUhEUgAAAncAAAFzCAYAAABcsy/pAAAABHNCSVQICAgIfAhkiAAAAAlwSFlzAAALEgAACxIB0t1+/AAAADh0RVh0U29mdHdhcmUAbWF0cGxvdGxpYiB2ZXJzaW9uMy4yLjIsIGh0dHA6Ly9tYXRwbG90bGliLm9yZy+WH4yJAAAgAElEQVR4nO3df7ScdX3g8fdHwIgtUcDAsgQMlVSL3RrlHoxlpVY9gVYrtMU2btVoOOXUpaJ0uy3YFTTWc6rtmsq6souVn7UgxVqpLmIKdbGWgDcaRUGWWKJmQYgbJNHaaOCzfzzf4T53mHvv5N6ZOzPPvF/nzJl5vjPPd77Pdx64n3x/RmYiSZKkZnjSoAsgSZKk3jG4kyRJahCDO0mSpAYxuJMkSWoQgztJkqQGMbiTJElqkAMHXYBh8YxnPCNXrFgx6GJIkiTNacuWLd/NzGWd3jO4K1asWMHk5OSgiyFJkjSniPjmTO/ZLStJktQgBneSJEkNYnAnSZLUIAZ3kiRJDWJwJ0mS1CAGd5IkSQ1icCdJktQgBneSJEkNYnAnSZLUA5mzHy+WvgV3EfHsiNhae+yOiLdGxGERsSki7i3Ph9bOuSAitkXEPRFxai39xIi4s7x3cURESV8SER8t6bdHxIraOevKd9wbEev6dZ2SJEkbN8OGW6cCuszqeOPmxS9L34K7zLwnM1dl5irgROBfgI8D5wM3Z+ZK4OZyTEScAKwFngucBnwwIg4o2V0CnA2sLI/TSvpZwMOZeTywEXhPyesw4CLghcBJwEX1IFKSJKlXMmH3Xrhs61SAt+HW6nj33sVvwVusbtmXAd/IzG8CpwNXlvQrgTPK69OBazNzb2beB2wDToqIo4ClmXlbZiZwVds5rbyuB15WWvVOBTZl5q7MfBjYxFRAKEmS1DMRcOEpsH5VFdCtuLh6Xr+qSq/6GxfPYgV3a4FryusjM/MBgPJ8REk/Gvh27ZwdJe3o8ro9fdo5mbkPeAQ4fJa8pomIsyNiMiImd+7cOe+LkyRJ460V4NUNIrCDRQjuIuLJwKuAv57rox3Scpb0+Z4zlZB5aWZOZObEsmXL5iieJElSZ62u2Lr6GLzFtBgtd78EfDEzHyzHD5auVsrzQyV9B3BM7bzlwP0lfXmH9GnnRMSBwNOAXbPkJUmS1FP1MXbrV8H2c6e6aAcR4C1GcPcaprpkAW4AWrNX1wGfqKWvLTNgj6OaOHFH6brdExGry3i617ed08rrTOCWMi7vJmBNRBxaJlKsKWmSJEk9FQFLl0wfY9cag7d0yeJ3zUb2MZyMiKdSjX37qcx8pKQdDlwHHAt8C3h1Zu4q7/0RsB7YB7w1M28s6RPAFcDBwI3AmzMzI+IpwNXA86la7NZm5j+Xc9YDbytFeXdmXj5bWScmJnJycrJXly5JksZM5vRArv24lyJiS2ZOdHyvn8HdKDG4kyRJo2K24M4dKiRJkhrE4E6SJKlBDO4kSZIaxOBOkiSpQQzuJEmSGsTgTpIkqUEM7iRJkhrE4E6SJKlBDO4kSZIaxOBOkiSpQQzuJEmSGsTgTpIkqUEM7iRJkhrE4E6SJKlBDO4kSZIaxOBOkiSpQQzuJEmSGsTgTpIkqUEM7iRJkhrE4E6SJKlBDO4kSZIaxOBOkiSpQQzuJEmSGsTgTpIkqUEM7iRJkhrE4E6SJKlBDO4kSZIaxOBOkiSpQQzuJEmSGsTgTpIkqUEM7iRJkhrE4E6SJKlBDO4kSZIaxOBOkiSpQQzuJEmSGsTgTpIkqUEM7iRJkhrE4E6SJKlBDO4kSZIaxOBOkiSpQQzuJEmSGsTgTpIkqUEM7iRJkhrE4E6SJKlBDO4kSZIaxOBOkiSpQQzuJEmSGqSvwV1EPD0iro+Ir0fE3RHxoog4LCI2RcS95fnQ2ucviIhtEXFPRJxaSz8xIu4s710cEVHSl0TER0v67RGxonbOuvId90bEun5epyQ1Xebsx5KGR79b7t4PfDoznwM8D7gbOB+4OTNXAjeXYyLiBGAt8FzgNOCDEXFAyecS4GxgZXmcVtLPAh7OzOOBjcB7Sl6HARcBLwROAi6qB5GSpO5t3Awbbp0K6DKr442bB1suSZ31LbiLiKXAKcCHATLzR5n5PeB04MrysSuBM8rr04FrM3NvZt4HbANOioijgKWZeVtmJnBV2zmtvK4HXlZa9U4FNmXmrsx8GNjEVEAoSepSJuzeC5dtnQrwNtxaHe/eawueNIwO7GPePwXsBC6PiOcBW4C3AEdm5gMAmflARBxRPn80UP934I6S9uPyuj29dc63S177IuIR4PB6eodzHhcRZ1O1CHLsscfO+0Ilqaki4MJTqteXba0eAOtXVenVIBlJw6Sf3bIHAi8ALsnM5wM/oHTBzqDT/yJylvT5njOVkHlpZk5k5sSyZctmKZokja96gNdiYCcNr34GdzuAHZl5ezm+nirYe7B0tVKeH6p9/pja+cuB+0v68g7p086JiAOBpwG7ZslLkrSfWl2xdfUxeJKGS9+Cu8z8DvDtiHh2SXoZcBdwA9CavboO+ER5fQOwtsyAPY5q4sQdpQt3T0SsLuPpXt92TiuvM4Fbyri8m4A1EXFomUixpqRJkvZDfYzd+lWw/dzquT4GT9Jw6eeYO4A3Ax+JiCcD/wy8kSqgvC4izgK+BbwaIDO/FhHXUQWA+4BzMvPRks+bgCuAg4EbywOqyRpXR8Q2qha7tSWvXRHxLuAL5XMbMnNXPy9UkpooApYumT7GrtVFu3SJXbPSMIr0n10ATExM5OTk5KCLIUlDKXN6INd+LGlxRcSWzJzo9J47VEiS5tQeyBnYScPL4E6SJKlBDO4kSX3jtmXS4jO4kyT1hduWSYNhcCdJ6jm3LZMGp99LoUiSxpDblo0WZ0M3iy13kqS+cNuy0WD3efMY3EmS+sJty4af3efNZLesJKnn2rctu/CUqWOwBW9Y2H3eTLbcSZJ6bqZty9avctuyYWP3efPYcidJ6ovzVk8fmN8KIgwahstM3ef+VqPLljtJUt+4bdlwa+8+335u9Vwfg6fRY8udJEljaqbuc7D7fJQZ3EmSNMbsPm8eu2UlSRpzdp83i8GdJElSgxjcSZIkNYjBnSRJUoMY3EmSJDWIwZ0kSRo57WvwuSbfFIM7SZI0UjZunr7Icmsx5o2bB1uuYWFwJ0mSRkYm7N47fReN1i4bu/faggcuYixJkkZIfReNy7ZWD5i+y8a4s+VOkiSNlHqA12JgN8XgTpI0jQPVNexaXbF19TF4487gTpL0OAeqa9jVx9itXwXbz62e62Pwxp1j7iRJwPSB6lB1c9X/iNY3l5cGJQKWLpk+xq7VRbt0ifcoQKQhLgATExM5OTk56GJI0kDVW0VaHKiuYdT+j41x+8dHRGzJzIlO79ktK0l6nAPVNSra70nv0SkGd5KkxzlQXRp9BneSJMCB6lJTOKFCkgQ4UF1qCoM7SdLjzls9fWB6K8AzsJNGh92ykqRpHKgujTaDO0mSpAYxuJMkSWoQgztJkqQGMbiTJElqEIM7SZKkBjG4kyRJahCDO0mSpAYxuJMkSWoQgztJkqQGMbiTJElqEIM7SZKkBjG4kyRJahCDO0map8zZjyVpEPoa3EXE9oi4MyK2RsRkSTssIjZFxL3l+dDa5y+IiG0RcU9EnFpLP7Hksy0iLo6IKOlLIuKjJf32iFhRO2dd+Y57I2JdP69T0vjZuBk23DoV0GVWxxs3D7ZckrQYLXe/mJmrMnOiHJ8P3JyZK4GbyzERcQKwFngucBrwwYg4oJxzCXA2sLI8TivpZwEPZ+bxwEbgPSWvw4CLgBcCJwEX1YNISVqITNi9Fy7bOhXgbbi1Ot691xY8SYM1iG7Z04Ery+srgTNq6ddm5t7MvA/YBpwUEUcBSzPztsxM4Kq2c1p5XQ+8rLTqnQpsysxdmfkwsImpgFCSFiQCLjwF1q+qAroVF1fP61dV6VXfgiQNRr+DuwQ+ExFbIuLsknZkZj4AUJ6PKOlHA9+unbujpB1dXrenTzsnM/cBjwCHz5LXNBFxdkRMRsTkzp07532RksZPK8CrM7CTNAz6HdydnJkvAH4JOCciTpnls53+l5izpM/3nKmEzEszcyIzJ5YtWzZL0SRpulZXbF19DJ4kDUpfg7vMvL88PwR8nGr824Olq5Xy/FD5+A7gmNrpy4H7S/ryDunTzomIA4GnAbtmyUuSFqw+xm79Kth+7lQXrQGepEHrW3AXET8REYe0XgNrgK8CNwCt2avrgE+U1zcAa8sM2OOoJk7cUbpu90TE6jKe7vVt57TyOhO4pYzLuwlYExGHlokUa0qaJC1YBCxdMn2MXWsM3tIlds1KGqwD+5j3kcDHy6olBwJ/lZmfjogvANdFxFnAt4BXA2Tm1yLiOuAuYB9wTmY+WvJ6E3AFcDBwY3kAfBi4OiK2UbXYrS157YqIdwFfKJ/bkJm7+nitksbMeaurFrpWINcK8AzsJA1apP0HAExMTOTk5OSgiyFJkjSniNhSW2ZuGneokCRJahCDO0mSpAYxuJMkSWqQOYO7iHhqRLw9Ij5UjldGxCv7XzRJkiTtr25a7i4H9gIvKsc7gD/uW4kkjbz2eVrO25KkxdNNcPeszHwv8GOAzPwhnXeAkCQ2bp6+kG9rwd+NmwdbLkkaF90Edz+KiIMp23dFxLOoWvIkaZpM2L13+k4NrZ0cdu+1BU+SFkM3ixhfBHwaOCYiPgKcDLyhn4WSNJpaC/lCFdBdtrV6Xd/JQZLUX3O23GXmJuDXqAK6a4CJzPxsf4slaVTVA7yWUQnsHCsoqQm6mS37q8C+zPxUZn4S2BcRZ/S/aJJGUasrtq4+Bm9YOVZQUlN0M+buosx8pHWQmd+j6qqVBspWluFTH2O3fhVsP7d6ro/BG0aOFZTUJN2MuesUAHZzntQ3GzdXf3Rb3X2tP8ZLl1QbumswIqrfoD7GrtVFu3TJ8HbNOlZQUpN0E6RNRsT7gP9ONWP2zcCWvpZKmkW9lQWqP7711qJM/xgP0nmrp/8GrcBp2H+TVjlb9xWMRrklqV03wd2bgbcDH6Va3+4zwDn9LJQ0G1tZhl/7bzAKv8lMYwW9pySNmjmDu8z8AXD+IpRF6pqtLOql9rGC9dZg8N6SNFpmDO4i4s8z860R8XeUBYzrMvNVfS2ZNAtbWdRLozpWUJI6ma3l7ury/GeLURCpW7ayqB9GdaygJLWbMbjLzC0RcQDw25n52kUskzQrW1nUL6M4VlCS2s065i4zH42IZRHx5Mz80WIVSpqLrSzN1D7T2ZnPkrT/upktux34fETcAPyglZiZ7+tXoaRu2MrSLK5dKEm90c0OFfcDnyyfPaT2kKSecIcISeqdbpZCeSdARCytDnNP30slaay4dqEk9c6cLXcRMRERdwJfAe6MiC9HxIn9L5qkcVIP8FoM7CRp/3XTLXsZ8B8zc0VmrqDaneLyvpZK0tiZae1Cu2Qlaf90E9ztyczPtQ4y8x8Bu2Yl9Uz72oXbz62e62PwJEnd6Wa27B0R8T+Ba6h2qvhN4LMR8QKAzPxiH8snaQy4dqEk9U7kHP8kjoh/mOXtzMyX9rZIgzExMZGTk5ODLoY01lznTpK6ExFbMnOi03vdzJb9xd4XSZKeyLULJWnhuhlzJ0mSpBFhcCdJktQgBneSJEkN0s0ixk+NiLdHxIfK8cqIeGX/iyZJkqT91U3L3eXAXuBF5XgH8Md9K5EkSZLmrZvg7lmZ+V7gxwCZ+UPAOWySJElDqJvg7kcRcTDVAsZExLOoWvIkSZI0ZLrZoeIi4NPAMRHxEeBk4A39LJQkSZLmp5tFjDdFxBeB1VTdsW/JzO/2vWSSJEnab93Mlj0Z+NfM/BTwdOBtEfHMvpdMkiRJ+62bMXeXAP8SEc8D/jPwTeCqvpZKkiRJ89JNcLcvMxM4Hbg4M98PHNLfYkmSJGk+uplQsSciLgBeC5wSEQcAB/W3WJIkSZqPblrufpNq6ZOzMvM7wNHAn/a1VJIkSZqXbmbLfgd4X+34WzjmTpIkaSjNGdxFxB7KAsbAk6m6ZL+fmU/rZ8EkSZK0/7ppuZs2eSIizgBO6luJJEmSNG/djLmbJjP/FnhpH8oiSZKkBeqmW/bXaodPAiaY6qaV1HCZEDHzsSRpuHTTcvcrtcepwB6qNe+6EhEHRMSXIuKT5fiwiNgUEfeW50Nrn70gIrZFxD0RcWot/cSIuLO8d3FE9aclIpZExEdL+u0RsaJ2zrryHfdGxLpuyytpysbNsOHWKqCD6nnDrVW6JGk4zRncZeYba4/fzsx3Z+ZD+/EdbwHurh2fD9ycmSuBm8sxEXECsBZ4LnAa8MGyph5Uu2ScDawsj9NK+lnAw5l5PLAReE/J6zDgIuCFVOMDL6oHkZLmlgm798JlW6cCvA23Vse7904FfJKk4dLN3rLLI+LjEfFQRDwYER+LiOXdZF4+9wrgL2rJpwNXltdXAmfU0q/NzL2ZeR+wDTgpIo4ClmbmbWWnjKvazmnldT3wstKqdyqwKTN3ZebDwCamAkJJXYiAC0+B9auqgG7FxdXz+lVVul2zkjScuumWvRy4Afi3VAsY/11J68afA38APFZLOzIzHwAoz0eU9KOBb9c+t6OkHV1et6dPOycz9wGPAIfPktc0EXF2RExGxOTOnTu7vCRpfLQCvDoDO0kabt0Ed8sy8/LM3FceVwDL5jopIl4JPJSZW7osS6c/FzlL+nzPmUrIvDQzJzJzYtmyOS9JGjutrti6+hg8SdLw6Sa4+25EvLZMjDggIl4L/L8uzjsZeFVEbAeuBV4aEX8JPFi6WinPrfF7O4BjaucvB+4v6cs7pE87JyIOBJ4G7JolL0ldqo+xW78Ktp871UVrgCdJw6ub4G498BvAd4AHgDNL2qwy84LMXJ6ZK6gmStySma+l6uJtzV5dB3yivL4BWFtmwB5HNXHijtJ1uyciVpfxdK9vO6eV15nlOxK4CVgTEYeWiRRrSpqkLkXA0iXTx9i1xuAtXWLXrCQNq252qPgW8KoefuefANdFxFnAt4BXl+/5WkRcB9wF7APOycxHyzlvAq4ADgZuLA+ADwNXR8Q2qha7tSWvXRHxLuAL5XMbMnNXD69BGgvnrZ6+rl0rwDOwk6ThFTlD30pE/DdmWaw4M8/tV6EGYWJiIicnJwddDEmSpDlFxJbMnOj03mwtd/VI551U68ZJkiRpiM0Y3GVma/04IuKt9WNJkiQNp24mVIB7yUqSJI2EboM7SZIkjYAZu2UjYg9TLXZPjYjdrbeAzMyl/S6cJEmS9s9sY+4OWcyCSJIkaeHslpUkSWoQgztJkqQGMbiTutS+3rd7qw4PfxtJmmJwJ3Vh42bYcOtU0JBZHW/cPNhyyd9GktoZ3ElzyITde+GyrVNBxIZbq+Pde20lGiR/G0l6otm2H5MERMCFp1SvL9taPQDWr6rSIwZXtnHnbyNJT2TLndSFehDRYvAwHPxtJGk6gzupC63uvrr6OC8Njr+NJE1ncCfNoT6Oa/0q2H5u9Vwf56XB8LeRpCdyzJ00hwhYumT6OK5WN+DSJXb/DZK/jSQ9UaT/tAVgYmIiJycnB10MDbHM6cFC+7EGx99G0riJiC2ZOdHpPbtlpS61BwsGD8PD30aSphjcSUPEnRYkSQtlcCcNCXdakCT1gsGdNAT6vdOCLYKSND6cLSsNgX7utLBxcxUgtvJpBY5Ll8B5q/c/PycvSNJws+VOGhL92Gmh1y2Cdh1L0vAzuJOGRD92WmgFjK2FfVdcPLXg7/4Gjv3uOpYk9YbdstIQaN9p4cJTpo5hYS14rQCvldd88+tn17EkqXdsuZOGwEw7LaxftfCdFnrZItiPrmNJUm/ZcicNifNWT5+c0AqkehHY9apFcKZA0QBPkoaHwZ00RHq900Iv917tZ9exJKl3DO6khutVi2AvA0VJUv8Y3EmMxtptCyljr1oEFxoojkI9S9Koc0KFxt4orN02TGWcb6A4TNcgSU1mcKexNgprt41CGefShGuQpFER6f9VAZiYmMjJyclBF0MDUA80WoZt7bZRKONcmnANkjQsImJLZk50es+WO429UVi7bRTKOJcmXIMkjQKDO429fmz71WujUMa5NOEaJGkUGNxprLWv3bb93Kl9WIcl8BiFMs6lCdcgSaPCpVA01kZh7bZRKONcmnANkjQqnFBROKFivI3C+mujUMa5NOEaJGkYOKFCY6393y+d/j3T622/+qEfZeymbnppFOq5k8WuJ0laCIM7NZoL587MuumO9SRp1BjcqbFcOHdm1k13rCdJo8gxd4Vj7prJhXNnZt10x3qSNIwcc6ex5cK5M7NuumM9SRo1BndqNBfOnZl10x3rSdKoMbhTY7lw7sysm+5YT5JGkYsYq7FcOHdm1k13rCdJo8gJFYUTKvpvUAvYjuLCub0q81z5jGLdDEK39WR9SlosA5lQERFPiYg7IuLLEfG1iHhnST8sIjZFxL3l+dDaORdExLaIuCciTq2lnxgRd5b3Lo6o/ncZEUsi4qMl/faIWFE7Z135jnsjYl2/rnNcLHQR10GuFTZqC+f2qq66yWfU6mZQuqkn18OTNCz6OeZuL/DSzHwesAo4LSJWA+cDN2fmSuDmckxEnACsBZ4LnAZ8MCIOKHldApwNrCyP00r6WcDDmXk8sBF4T8nrMOAi4IXAScBF9SBS+2ehf7RcK6x7vaor63xxWd+Shknfxtxl1d/7/XJ4UHkkcDrwkpJ+JfBZ4A9L+rWZuRe4LyK2ASdFxHZgaWbeBhARVwFnADeWc95R8roe+EBp1TsV2JSZu8o5m6gCwmv6c7XNVf+jBdV4o/oA8266nerjlC7bOpWXa4U9Ua/qyjpfXNa3pGHS19myEXFARGwFHqIKtm4HjszMBwDK8xHl40cD366dvqOkHV1et6dPOycz9wGPAIfPkld7+c6OiMmImNy5c+dCLrWxWn+0WjMEV1w8FdjNN9ho8Y9eZ72qK+t8cVnfkoZFX4O7zHw0M1cBy6la4X52lo93+l9gzpI+33Pq5bs0Mycyc2LZsmWzFG289eKPlmuFda9XdWWdLy7rW9KwWJR17jLze1Tdr6cBD0bEUQDl+aHysR3AMbXTlgP3l/TlHdKnnRMRBwJPA3bNkpfmYaF/tFwrrHu9qivrfHFZ35KGST9nyy6LiKeX1wcDLwe+DtwAtGavrgM+UV7fAKwtM2CPo5o4cUfput0TEavLeLrXt53TyutM4JYy1u8mYE1EHFomUqwpadpPvfijNdNaYetXuVZYu17V1WLW+UJnUjeB97ikYdK3de4i4ueoJkwcQBVEXpeZGyLicOA64FjgW8CraxMf/ghYD+wD3pqZN5b0CeAK4GCqiRRvzsyMiKcAVwPPp2qxW5uZ/1zOWQ+8rRTn3Zl5+WzldZ27mW3cXE2qaP3RagV8S5fAeau7z8c1wJ5opjpZrHXuFqpX90ZTeI9LWiyzrXPnIsaFwd3s/KPVe6MeGLW36rbPpHYygST1z2zBnduPqSsudttbvVhiZtBc/kOShpPBnTQATQmMWtfRKj+MVvklqYkWZbaspCdqwrpoLv8hScPH4E4akFEPjFz+Q5KGk92y0gDMNhkBRqMFb6blP8DlPyRpkAzupAFoSmB03urpkz9a1zEq5ZekJjK4kwakKYGRM6klabg45k4aIAMjSVKvGdxJkiQ1iMGdJElSgxjcSZIkNYjBnSRJUoMY3EmSJDWIwZ16qn1XAncpWHz+BpI03gzu1DMbN0/fdqq1C8PGzYMt1zjxN5AkGdypJzJh997p+4q2ttPavdfWo16Yq0XO30CSBO5QoR6pb5912dapPVLr22tp/jZurgK0Vl22ArelS6qdLsDfQJJUseVOPVMPLloMKioLGQe3Py1y/gaSJIO7MdSvAfetoKOuPv6rV98x2/EwWug4uFbAtn5VFdCtuLh67tQitxi/gSRpuBncjZl+DbivtyatXwXbz50KRnoVXIziZIFejYPrpkVuMX4DSdLwc8zdGKkHGlAFB/VgIHP+3XcR1fivemtSKxhZumTh3YL9LHs/9Woc3EwtcvU8+v0bSJJGQ6T/nAdgYmIiJycnB12Mvqu37rT0csB9e5DVy6Cr32Xvp8yqO7Vl+7n7H9jVu2Lbj2er82ENfCVJ8xcRWzJzotN7dsuOmX4PuG/Pp5dBRbddk3X7O3FhvufOle9CxsHN1CK3flXnFrl+/gaSpOFncDdmRnnA/VxlX8iYvGEfi3je6id2wV54ytQyKJIktRjcjZGFBhqDnKk6V9kfe2z+Exf6ufjv/ra6zZXXTMejOItYktQfTqgYIwsZcN/NIrqDLPuTnjT/iQv9Xvz3vNXTx721vq9X3aWD/m0kScPF4G7MzCfQGJaZqnOVvXVcn3DRbRC1kHO70a9xcMPy20iShofB3Rja30BjmLa1mqtrcq7lQmaykHMHaZh+G0nScHDMnboyyG2tuhlPtpDxhKO++K9bjkmS6gzu1JWZWrYee+yJn+ulbmexLmTiQi8nPQzCKM+AliT1nt2ymtNsi+hu3gGfek01oaHXA/n3dzzZQiYu9HvSQ7/M9tvAaFyDJKm3DO40p04tW29/cRXY3fVdeNfn+jOQfz7jyRYycWEUF/91yzFJUju3HyvGZfuxhWgP2B57rArs+r0d2EK27hoXbjkmSePF7cfUE+3BQn1tuZZ+BHaOJ5vbKLY6SpL6w+BO89bvwGvUZ7FKkjQIjrnTvCzGQH7Hk0mStP8M7jQvixV4jeosVkmSBsXgTvO2WIGX48kkSeqeY+60IAZekiQNF4M7DZVuthqTJEkzM7jT0Oh2qzFJkjQzgzsNhfpWY60ArzX7dvdeW/AkSeqWEyo0FOaz1ZgkSXoiW+40NOoBXouBnSRJ+8fgTkPDrcYkSVo4gzsNBbcakySpNxxzpwWpL2Lc6bhbbjUmSVJv9K3lLiKOiYh/iIi7I+JrEfGWkn5YRGyKiHvL86G1cy6IiG0RcU9EnFpLPzEi7izvXRxR/amPiCUR8dGSfntErKids658x70Rsa5f1znOer10yXmrp4+xawV4rZ0w6mzJkySps352y2t+YSQAAAyOSURBVO4D/lNm/gywGjgnIk4AzgduzsyVwM3lmPLeWuC5wGnAByPigJLXJcDZwMryOK2knwU8nJnHAxuB95S8DgMuAl4InARcVA8itXD9Wrqk044Xrn8nSVL3+hbcZeYDmfnF8noPcDdwNHA6cGX52JXAGeX16cC1mbk3M+8DtgEnRcRRwNLMvC0zE7iq7ZxWXtcDLyuteqcCmzJzV2Y+DGxiKiBUD7Ra1Vrj4lZcPDVerpczXF3/TpKk/bMoY+5Kd+nzgduBIzPzAagCwIg4onzsaKDeFrOjpP24vG5Pb53z7ZLXvoh4BDi8nt7hnHq5zqZqEeTYY4+d9/WNq1aA11qTDnq/dInr30mStH/6Pls2In4S+Bjw1szcPdtHO6TlLOnzPWcqIfPSzJzIzIlly5bNUjR1slhLl7j+nSRJ3etrcBcRB1EFdh/JzL8pyQ+WrlbK80MlfQdwTO305cD9JX15h/Rp50TEgcDTgF2z5KUeWcylS1z/TpKk7vVztmwAHwbuzsz31d66AWjNXl0HfKKWvrbMgD2OauLEHaULd09ErC55vr7tnFZeZwK3lHF5NwFrIuLQMpFiTUlTj8y0dMn6Vb1dusT17yRJ2j/9HHN3MvA64M6IaI3KehvwJ8B1EXEW8C3g1QCZ+bWIuA64i2qm7TmZ+Wg5703AFcDBwI3lAVXweHVEbKNqsVtb8toVEe8CvlA+tyEzd/XrQsdVa4mS9qVLej3mzvXvJEnqXqRNHwBMTEzk5OTkoIuhGfRqsWRJkpogIrZk5kSn99x+TCOh0/p3kiTpiQzuFok7LEiSpMVgcLcI3GFBkiQtFoO7PnOHBUmStJgWZYeKceYOC5IkaTHZcrcI3GFBkiQtFoO7ReAOC5IkabEY3PVZP3dYcAauJElq55i7PuvXDgsbN1cTMlp5toLIpUuqnSMkSdJ4MrhbBL3epqs+AxeqvOqtg+7eIEnS+DK4WyS93GHBGbiSJGkmjrkbUc7AlSRJnRjcjShn4EqSpE4M7kZQP2fgSpKk0eaYuxHUrxm4kiRp9Bncjahez8CVJEnNYLfsCOvlDFxJktQMBneSJEkNYnAnSZLUIAZ3kiRJDWJwJ0mS1CAGd5IkSQ1icCdJktQgBneSJEkNYnAnSZLUIAZ3kiRJDRLpLvMARMRO4JuDLsc8PQP47qALMWSsk86sl86sl86sl86sl86sl876VS/PzMxlnd4wuGuAiJjMzIlBl2OYWCedWS+dWS+dWS+dWS+dWS+dDaJe7JaVJElqEIM7SZKkBjG4a4ZLB12AIWSddGa9dGa9dGa9dGa9dGa9dLbo9eKYO0mSpAax5U6SJKlBDO6GUERcFhEPRcRXa2mHRcSmiLi3PB9ae++CiNgWEfdExKm19BMj4s7y3sUREYt9Lb00Q728IyL+b0RsLY9frr3X+HqJiGMi4h8i4u6I+FpEvKWkj/X9Mku9jPv98pSIuCMivlzq5Z0lfdzvl5nqZazvl5aIOCAivhQRnyzHY32/tHSol+G5XzLTx5A9gFOAFwBfraW9Fzi/vD4feE95fQLwZWAJcBzwDeCA8t4dwIuAAG4EfmnQ19aHenkH8PsdPjsW9QIcBbygvD4E+D/l2sf6fpmlXsb9fgngJ8vrg4DbgdXeLzPWy1jfL7Xr/T3gr4BPluOxvl9mqZehuV9suRtCmXkrsKst+XTgyvL6SuCMWvq1mbk3M+8DtgEnRcRRwNLMvC2rO+iq2jkjaYZ6mclY1EtmPpCZXyyv9wB3A0cz5vfLLPUyk3Gpl8zM75fDg8oj8X6ZqV5mMhb1AhARy4FXAH9RSx7r+wVmrJeZLHq9GNyNjiMz8wGo/nABR5T0o4Fv1z63o6QdXV63pzfR70bEV6Lqtm11D4xdvUTECuD5VK0O3i9FW73AmN8vpStpK/AQsCkzvV+YsV5gzO8X4M+BPwAeq6WN/f1C53qBIblfDO5GX6f++ZwlvWkuAZ4FrAIeAP5rSR+reomInwQ+Brw1M3fP9tEOaeNUL2N/v2Tmo5m5ClhO1Xrws7N8fNzrZazvl4h4JfBQZm7p9pQOaeNUL0NzvxjcjY4HSxMu5fmhkr4DOKb2ueXA/SV9eYf0RsnMB8v/lB8DPgScVN4am3qJiIOoApiPZObflOSxv1861Yv3y5TM/B7wWeA0vF8eV68X7xdOBl4VEduBa4GXRsRf4v3SsV6G6X4xuBsdNwDryut1wCdq6WsjYklEHAesBO4oTeV7ImJ1mX3z+to5jdH6H0zxq0BrJu1Y1Eu5hg8Dd2fm+2pvjfX9MlO9eL/Esoh4enl9MPBy4Ot4v3Ssl3G/XzLzgsxcnpkrgLXALZn5Wsb8fpmpXobqfunFrAwfPZ+Bcw1Vk+6PqSL7s4DDgZuBe8vzYbXP/xHV7Jt7qM20ASbKzfUN4AOURatH9TFDvVwN3Al8pfwHdNQ41Qvw76ma8b8CbC2PXx73+2WWehn3++XngC+V6/8qcGFJH/f7ZaZ6Gev7pa2OXsLUrNCxvl9mqZehuV/coUKSJKlB7JaVJElqEIM7SZKkBjG4kyRJahCDO0mSpAYxuJMkSWoQgztJAxcR3287fkNEfGAA5VgdEbdHxNaIuDsi3lHSXxUR588zz+dHRDf7T/ZdRFxTtkY6bx7nviQifr52/LsR8cbellBSLxw46AJI0hC5EviNzPxyRBwAPBsgM2+gWrdqPt4G/HGPyvcEEXFgZu7r4nP/Bvj5zHzmPL/qJcD3gX8qx5cBnwcun2d+kvrEljtJQy0inhkRN5cWp5sj4tiSfkVEnFn73PfL81ERcWtpfftqRLy4pK+JiNsi4osR8ddl39l2R1AtlE1W2wjdVc59vCWx5Nt6/DAifiEifqJsFP6FiPhSRJxePnsI8HOZ+eVy/Au1c78UEYdE5QMRcVdEfCoi/lfruiJie0Q8o7yeiIjPltfviIhLI+IzwFVlh4WPle//QkSc3OHaPgMcUb77xRHxrIj4dERsiYjPRcRzSt5PyCsiVgC/A5zXOj8z/wXYHhEndfguSQNky52kYXBwRGytHR/GVEvZB4CrMvPKiFgPXAycMUte/wG4KTPfXVrfnloCpP8CvDwzfxARfwj8HrCh7dyNwD0liPo0cGVm/mv9A1ltLk9E/ArwB1QtWe+k2oJofdnG6o6I+HumVp9v+X3gnMz8fAku/5Vqm6JnA/8OOBK4i6pVbC4nAv8+M38YEX8FbMzMfyzB703Az7R9/lVUK+m3yn8z8DuZeW9EvBD4IPBS4P3teWXmz0TE/wC+n5l/VstzEngxcEcX5ZW0SAzuJA2DH7aCDqhayqgCI4AXAb9WXl8NvHeOvL4AXBYRBwF/m5lbI+IXgBOAz1dbOPJk4Lb2EzNzQ0R8BFhDFSS+hqo7cpqIWAn8KfDSzPxxRKyh2kj898tHngIcCxwF7Kyd+nngfeU7/iYzd0TEKcA1mfkocH9E3DLH9bXckJk/LK9fDpxQrg1gaUQckpl7Op1YAsufB/66ds6S2fKaoQwPAc/psrySFonBnaRR09ozcR9laElUkciTATLz1hIwvQK4OiL+FHgY2JSZr5kz88xvAJdExIeAnRFxeP39iPgJ4DrgtzPz/lYy8OuZeU/bZ59DFei18v6TiPgU1T63myPi5W3X1O7xa6znU/yg9vpJwItqwd5cngR8rx5Qz5VXLdirewrQ7XdKWiSOuZM07P4JWFte/xbwj+X1dqquSYDTgYOgGqMHPJSZHwI+DLwA2AycHBHHl888NSJ+uv2LIuIVMRXFrAQeBb7X9rHLgcsz83O1tJuAN7fOjYjnl/S7geNr+T8rM+/MzPdQdWk+B7gVWBsRB0TEUcAv1vKtX+Ovd6ydymeA3619T6eg7XGZuRu4LyJeXT4fEfG8OfLaA7S34P0007udJQ0BgztJw+5c4I0R8RXgdcBbSvqHgF+IiDuAFzLVkvUSYGtEfIkqIHp/Zu4E3gBcU/LZTOfuxNdRjbnbStUF/FuluxR4PHA8E1hfmxgxAbyLKrj8SkR8tRyTmV8Hnlbr1nxrVJM8vkzV4nUj8HHgXuBO4BLgf9fK807g/RHxOapAc7Y6mohq0sldVJMf5vJbwFmlLF+jCpBny+vvgF9tTagoaScDf9/Fd0laRJE5U2+AJGmholpTbk9mdrXWXURcQTXx4fq+FmyBSuvk72Xm6wZdFknT2XInSf11CbB30IXog2cAbx90ISQ9kS13kiRJDWLLnSRJUoMY3EmSJDWIwZ0kSVKDGNxJkiQ1iMGdJElSgxjcSZIkNcj/B+leYTO/0nu4AAAAAElFTkSuQmCC\n"
     },
     "metadata": {
      "needs_background": "light"
     }
    }
   ],
   "source": [
    "# The first variable - House Size\n",
    "fig, ax = plt.subplots(figsize=(10, 6))\n",
    "ax.scatter(x=lrmv['Size(squre feet)'], y=lrmv['House price'], color='dodgerblue', marker='x')\n",
    "ax.set_xlabel('House Size(squre feet)')\n",
    "ax.set_ylabel('House price')"
   ]
  },
  {
   "cell_type": "code",
   "execution_count": 8,
   "metadata": {},
   "outputs": [
    {
     "output_type": "execute_result",
     "data": {
      "text/plain": [
       "3    25\n",
       "4    14\n",
       "2     6\n",
       "5     1\n",
       "1     1\n",
       "Name: Bedroom number, dtype: int64"
      ]
     },
     "metadata": {},
     "execution_count": 8
    }
   ],
   "source": [
    "lrmv['Bedroom number'].value_counts()"
   ]
  },
  {
   "cell_type": "code",
   "execution_count": 10,
   "metadata": {},
   "outputs": [
    {
     "output_type": "execute_result",
     "data": {
      "text/plain": [
       "Text(0.5, 1.0, 'Bedroom number')"
      ]
     },
     "metadata": {},
     "execution_count": 10
    },
    {
     "output_type": "display_data",
     "data": {
      "text/plain": "<Figure size 720x432 with 1 Axes>",
      "image/svg+xml": "<?xml version=\"1.0\" encoding=\"utf-8\" standalone=\"no\"?>\n<!DOCTYPE svg PUBLIC \"-//W3C//DTD SVG 1.1//EN\"\n  \"http://www.w3.org/Graphics/SVG/1.1/DTD/svg11.dtd\">\n<!-- Created with matplotlib (https://matplotlib.org/) -->\n<svg height=\"372.35625pt\" version=\"1.1\" viewBox=\"0 0 592.125 372.35625\" width=\"592.125pt\" xmlns=\"http://www.w3.org/2000/svg\" xmlns:xlink=\"http://www.w3.org/1999/xlink\">\n <defs>\n  <style type=\"text/css\">\n*{stroke-linecap:butt;stroke-linejoin:round;}\n  </style>\n </defs>\n <g id=\"figure_1\">\n  <g id=\"patch_1\">\n   <path d=\"M 0 372.35625 \nL 592.125 372.35625 \nL 592.125 0 \nL 0 0 \nz\n\" style=\"fill:none;\"/>\n  </g>\n  <g id=\"axes_1\">\n   <g id=\"patch_2\">\n    <path d=\"M 26.925 348.478125 \nL 584.925 348.478125 \nL 584.925 22.318125 \nL 26.925 22.318125 \nz\n\" style=\"fill:#ffffff;\"/>\n   </g>\n   <g id=\"patch_3\">\n    <path clip-path=\"url(#pb34c5f5498)\" d=\"M 52.288636 348.478125 \nL 153.743182 348.478125 \nL 153.743182 336.052982 \nL 52.288636 336.052982 \nz\n\" style=\"fill:#1e90ff;\"/>\n   </g>\n   <g id=\"patch_4\">\n    <path clip-path=\"url(#pb34c5f5498)\" d=\"M 153.743182 348.478125 \nL 255.197727 348.478125 \nL 255.197727 273.927268 \nL 153.743182 273.927268 \nz\n\" style=\"fill:#1e90ff;\"/>\n   </g>\n   <g id=\"patch_5\">\n    <path clip-path=\"url(#pb34c5f5498)\" d=\"M 255.197727 348.478125 \nL 356.652273 348.478125 \nL 356.652273 37.849554 \nL 255.197727 37.849554 \nz\n\" style=\"fill:#1e90ff;\"/>\n   </g>\n   <g id=\"patch_6\">\n    <path clip-path=\"url(#pb34c5f5498)\" d=\"M 356.652273 348.478125 \nL 458.106818 348.478125 \nL 458.106818 174.526125 \nL 356.652273 174.526125 \nz\n\" style=\"fill:#1e90ff;\"/>\n   </g>\n   <g id=\"patch_7\">\n    <path clip-path=\"url(#pb34c5f5498)\" d=\"M 458.106818 348.478125 \nL 559.561364 348.478125 \nL 559.561364 336.052982 \nL 458.106818 336.052982 \nz\n\" style=\"fill:#1e90ff;\"/>\n   </g>\n   <g id=\"matplotlib.axis_1\">\n    <g id=\"xtick_1\">\n     <g id=\"line2d_1\">\n      <defs>\n       <path d=\"M 0 0 \nL 0 3.5 \n\" id=\"mc5e4eaac7a\" style=\"stroke:#000000;stroke-width:0.8;\"/>\n      </defs>\n      <g>\n       <use style=\"stroke:#000000;stroke-width:0.8;\" x=\"103.015909\" xlink:href=\"#mc5e4eaac7a\" y=\"348.478125\"/>\n      </g>\n     </g>\n     <g id=\"text_1\">\n      <!-- 1 -->\n      <defs>\n       <path d=\"M 12.40625 8.296875 \nL 28.515625 8.296875 \nL 28.515625 63.921875 \nL 10.984375 60.40625 \nL 10.984375 69.390625 \nL 28.421875 72.90625 \nL 38.28125 72.90625 \nL 38.28125 8.296875 \nL 54.390625 8.296875 \nL 54.390625 0 \nL 12.40625 0 \nz\n\" id=\"DejaVuSans-49\"/>\n      </defs>\n      <g transform=\"translate(99.834659 363.076563)scale(0.1 -0.1)\">\n       <use xlink:href=\"#DejaVuSans-49\"/>\n      </g>\n     </g>\n    </g>\n    <g id=\"xtick_2\">\n     <g id=\"line2d_2\">\n      <g>\n       <use style=\"stroke:#000000;stroke-width:0.8;\" x=\"204.470455\" xlink:href=\"#mc5e4eaac7a\" y=\"348.478125\"/>\n      </g>\n     </g>\n     <g id=\"text_2\">\n      <!-- 2 -->\n      <defs>\n       <path d=\"M 19.1875 8.296875 \nL 53.609375 8.296875 \nL 53.609375 0 \nL 7.328125 0 \nL 7.328125 8.296875 \nQ 12.9375 14.109375 22.625 23.890625 \nQ 32.328125 33.6875 34.8125 36.53125 \nQ 39.546875 41.84375 41.421875 45.53125 \nQ 43.3125 49.21875 43.3125 52.78125 \nQ 43.3125 58.59375 39.234375 62.25 \nQ 35.15625 65.921875 28.609375 65.921875 \nQ 23.96875 65.921875 18.8125 64.3125 \nQ 13.671875 62.703125 7.8125 59.421875 \nL 7.8125 69.390625 \nQ 13.765625 71.78125 18.9375 73 \nQ 24.125 74.21875 28.421875 74.21875 \nQ 39.75 74.21875 46.484375 68.546875 \nQ 53.21875 62.890625 53.21875 53.421875 \nQ 53.21875 48.921875 51.53125 44.890625 \nQ 49.859375 40.875 45.40625 35.40625 \nQ 44.1875 33.984375 37.640625 27.21875 \nQ 31.109375 20.453125 19.1875 8.296875 \nz\n\" id=\"DejaVuSans-50\"/>\n      </defs>\n      <g transform=\"translate(201.289205 363.076563)scale(0.1 -0.1)\">\n       <use xlink:href=\"#DejaVuSans-50\"/>\n      </g>\n     </g>\n    </g>\n    <g id=\"xtick_3\">\n     <g id=\"line2d_3\">\n      <g>\n       <use style=\"stroke:#000000;stroke-width:0.8;\" x=\"305.925\" xlink:href=\"#mc5e4eaac7a\" y=\"348.478125\"/>\n      </g>\n     </g>\n     <g id=\"text_3\">\n      <!-- 3 -->\n      <defs>\n       <path d=\"M 40.578125 39.3125 \nQ 47.65625 37.796875 51.625 33 \nQ 55.609375 28.21875 55.609375 21.1875 \nQ 55.609375 10.40625 48.1875 4.484375 \nQ 40.765625 -1.421875 27.09375 -1.421875 \nQ 22.515625 -1.421875 17.65625 -0.515625 \nQ 12.796875 0.390625 7.625 2.203125 \nL 7.625 11.71875 \nQ 11.71875 9.328125 16.59375 8.109375 \nQ 21.484375 6.890625 26.8125 6.890625 \nQ 36.078125 6.890625 40.9375 10.546875 \nQ 45.796875 14.203125 45.796875 21.1875 \nQ 45.796875 27.640625 41.28125 31.265625 \nQ 36.765625 34.90625 28.71875 34.90625 \nL 20.21875 34.90625 \nL 20.21875 43.015625 \nL 29.109375 43.015625 \nQ 36.375 43.015625 40.234375 45.921875 \nQ 44.09375 48.828125 44.09375 54.296875 \nQ 44.09375 59.90625 40.109375 62.90625 \nQ 36.140625 65.921875 28.71875 65.921875 \nQ 24.65625 65.921875 20.015625 65.03125 \nQ 15.375 64.15625 9.8125 62.3125 \nL 9.8125 71.09375 \nQ 15.4375 72.65625 20.34375 73.4375 \nQ 25.25 74.21875 29.59375 74.21875 \nQ 40.828125 74.21875 47.359375 69.109375 \nQ 53.90625 64.015625 53.90625 55.328125 \nQ 53.90625 49.265625 50.4375 45.09375 \nQ 46.96875 40.921875 40.578125 39.3125 \nz\n\" id=\"DejaVuSans-51\"/>\n      </defs>\n      <g transform=\"translate(302.74375 363.076563)scale(0.1 -0.1)\">\n       <use xlink:href=\"#DejaVuSans-51\"/>\n      </g>\n     </g>\n    </g>\n    <g id=\"xtick_4\">\n     <g id=\"line2d_4\">\n      <g>\n       <use style=\"stroke:#000000;stroke-width:0.8;\" x=\"407.379545\" xlink:href=\"#mc5e4eaac7a\" y=\"348.478125\"/>\n      </g>\n     </g>\n     <g id=\"text_4\">\n      <!-- 4 -->\n      <defs>\n       <path d=\"M 37.796875 64.3125 \nL 12.890625 25.390625 \nL 37.796875 25.390625 \nz\nM 35.203125 72.90625 \nL 47.609375 72.90625 \nL 47.609375 25.390625 \nL 58.015625 25.390625 \nL 58.015625 17.1875 \nL 47.609375 17.1875 \nL 47.609375 0 \nL 37.796875 0 \nL 37.796875 17.1875 \nL 4.890625 17.1875 \nL 4.890625 26.703125 \nz\n\" id=\"DejaVuSans-52\"/>\n      </defs>\n      <g transform=\"translate(404.198295 363.076563)scale(0.1 -0.1)\">\n       <use xlink:href=\"#DejaVuSans-52\"/>\n      </g>\n     </g>\n    </g>\n    <g id=\"xtick_5\">\n     <g id=\"line2d_5\">\n      <g>\n       <use style=\"stroke:#000000;stroke-width:0.8;\" x=\"508.834091\" xlink:href=\"#mc5e4eaac7a\" y=\"348.478125\"/>\n      </g>\n     </g>\n     <g id=\"text_5\">\n      <!-- 5 -->\n      <defs>\n       <path d=\"M 10.796875 72.90625 \nL 49.515625 72.90625 \nL 49.515625 64.59375 \nL 19.828125 64.59375 \nL 19.828125 46.734375 \nQ 21.96875 47.46875 24.109375 47.828125 \nQ 26.265625 48.1875 28.421875 48.1875 \nQ 40.625 48.1875 47.75 41.5 \nQ 54.890625 34.8125 54.890625 23.390625 \nQ 54.890625 11.625 47.5625 5.09375 \nQ 40.234375 -1.421875 26.90625 -1.421875 \nQ 22.3125 -1.421875 17.546875 -0.640625 \nQ 12.796875 0.140625 7.71875 1.703125 \nL 7.71875 11.625 \nQ 12.109375 9.234375 16.796875 8.0625 \nQ 21.484375 6.890625 26.703125 6.890625 \nQ 35.15625 6.890625 40.078125 11.328125 \nQ 45.015625 15.765625 45.015625 23.390625 \nQ 45.015625 31 40.078125 35.4375 \nQ 35.15625 39.890625 26.703125 39.890625 \nQ 22.75 39.890625 18.8125 39.015625 \nQ 14.890625 38.140625 10.796875 36.28125 \nz\n\" id=\"DejaVuSans-53\"/>\n      </defs>\n      <g transform=\"translate(505.652841 363.076563)scale(0.1 -0.1)\">\n       <use xlink:href=\"#DejaVuSans-53\"/>\n      </g>\n     </g>\n    </g>\n   </g>\n   <g id=\"matplotlib.axis_2\">\n    <g id=\"ytick_1\">\n     <g id=\"line2d_6\">\n      <defs>\n       <path d=\"M 0 0 \nL -3.5 0 \n\" id=\"ma2f2b7b10e\" style=\"stroke:#000000;stroke-width:0.8;\"/>\n      </defs>\n      <g>\n       <use style=\"stroke:#000000;stroke-width:0.8;\" x=\"26.925\" xlink:href=\"#ma2f2b7b10e\" y=\"348.478125\"/>\n      </g>\n     </g>\n     <g id=\"text_6\">\n      <!-- 0 -->\n      <defs>\n       <path d=\"M 31.78125 66.40625 \nQ 24.171875 66.40625 20.328125 58.90625 \nQ 16.5 51.421875 16.5 36.375 \nQ 16.5 21.390625 20.328125 13.890625 \nQ 24.171875 6.390625 31.78125 6.390625 \nQ 39.453125 6.390625 43.28125 13.890625 \nQ 47.125 21.390625 47.125 36.375 \nQ 47.125 51.421875 43.28125 58.90625 \nQ 39.453125 66.40625 31.78125 66.40625 \nz\nM 31.78125 74.21875 \nQ 44.046875 74.21875 50.515625 64.515625 \nQ 56.984375 54.828125 56.984375 36.375 \nQ 56.984375 17.96875 50.515625 8.265625 \nQ 44.046875 -1.421875 31.78125 -1.421875 \nQ 19.53125 -1.421875 13.0625 8.265625 \nQ 6.59375 17.96875 6.59375 36.375 \nQ 6.59375 54.828125 13.0625 64.515625 \nQ 19.53125 74.21875 31.78125 74.21875 \nz\n\" id=\"DejaVuSans-48\"/>\n      </defs>\n      <g transform=\"translate(13.5625 352.277344)scale(0.1 -0.1)\">\n       <use xlink:href=\"#DejaVuSans-48\"/>\n      </g>\n     </g>\n    </g>\n    <g id=\"ytick_2\">\n     <g id=\"line2d_7\">\n      <g>\n       <use style=\"stroke:#000000;stroke-width:0.8;\" x=\"26.925\" xlink:href=\"#ma2f2b7b10e\" y=\"286.352411\"/>\n      </g>\n     </g>\n     <g id=\"text_7\">\n      <!-- 5 -->\n      <g transform=\"translate(13.5625 290.151629)scale(0.1 -0.1)\">\n       <use xlink:href=\"#DejaVuSans-53\"/>\n      </g>\n     </g>\n    </g>\n    <g id=\"ytick_3\">\n     <g id=\"line2d_8\">\n      <g>\n       <use style=\"stroke:#000000;stroke-width:0.8;\" x=\"26.925\" xlink:href=\"#ma2f2b7b10e\" y=\"224.226696\"/>\n      </g>\n     </g>\n     <g id=\"text_8\">\n      <!-- 10 -->\n      <g transform=\"translate(7.2 228.025915)scale(0.1 -0.1)\">\n       <use xlink:href=\"#DejaVuSans-49\"/>\n       <use x=\"63.623047\" xlink:href=\"#DejaVuSans-48\"/>\n      </g>\n     </g>\n    </g>\n    <g id=\"ytick_4\">\n     <g id=\"line2d_9\">\n      <g>\n       <use style=\"stroke:#000000;stroke-width:0.8;\" x=\"26.925\" xlink:href=\"#ma2f2b7b10e\" y=\"162.100982\"/>\n      </g>\n     </g>\n     <g id=\"text_9\">\n      <!-- 15 -->\n      <g transform=\"translate(7.2 165.900201)scale(0.1 -0.1)\">\n       <use xlink:href=\"#DejaVuSans-49\"/>\n       <use x=\"63.623047\" xlink:href=\"#DejaVuSans-53\"/>\n      </g>\n     </g>\n    </g>\n    <g id=\"ytick_5\">\n     <g id=\"line2d_10\">\n      <g>\n       <use style=\"stroke:#000000;stroke-width:0.8;\" x=\"26.925\" xlink:href=\"#ma2f2b7b10e\" y=\"99.975268\"/>\n      </g>\n     </g>\n     <g id=\"text_10\">\n      <!-- 20 -->\n      <g transform=\"translate(7.2 103.774487)scale(0.1 -0.1)\">\n       <use xlink:href=\"#DejaVuSans-50\"/>\n       <use x=\"63.623047\" xlink:href=\"#DejaVuSans-48\"/>\n      </g>\n     </g>\n    </g>\n    <g id=\"ytick_6\">\n     <g id=\"line2d_11\">\n      <g>\n       <use style=\"stroke:#000000;stroke-width:0.8;\" x=\"26.925\" xlink:href=\"#ma2f2b7b10e\" y=\"37.849554\"/>\n      </g>\n     </g>\n     <g id=\"text_11\">\n      <!-- 25 -->\n      <g transform=\"translate(7.2 41.648772)scale(0.1 -0.1)\">\n       <use xlink:href=\"#DejaVuSans-50\"/>\n       <use x=\"63.623047\" xlink:href=\"#DejaVuSans-53\"/>\n      </g>\n     </g>\n    </g>\n   </g>\n   <g id=\"patch_8\">\n    <path d=\"M 26.925 348.478125 \nL 26.925 22.318125 \n\" style=\"fill:none;stroke:#000000;stroke-linecap:square;stroke-linejoin:miter;stroke-width:0.8;\"/>\n   </g>\n   <g id=\"patch_9\">\n    <path d=\"M 584.925 348.478125 \nL 584.925 22.318125 \n\" style=\"fill:none;stroke:#000000;stroke-linecap:square;stroke-linejoin:miter;stroke-width:0.8;\"/>\n   </g>\n   <g id=\"patch_10\">\n    <path d=\"M 26.925 348.478125 \nL 584.925 348.478125 \n\" style=\"fill:none;stroke:#000000;stroke-linecap:square;stroke-linejoin:miter;stroke-width:0.8;\"/>\n   </g>\n   <g id=\"patch_11\">\n    <path d=\"M 26.925 22.318125 \nL 584.925 22.318125 \n\" style=\"fill:none;stroke:#000000;stroke-linecap:square;stroke-linejoin:miter;stroke-width:0.8;\"/>\n   </g>\n   <g id=\"text_12\">\n    <!-- Bedroom number -->\n    <defs>\n     <path d=\"M 19.671875 34.8125 \nL 19.671875 8.109375 \nL 35.5 8.109375 \nQ 43.453125 8.109375 47.28125 11.40625 \nQ 51.125 14.703125 51.125 21.484375 \nQ 51.125 28.328125 47.28125 31.5625 \nQ 43.453125 34.8125 35.5 34.8125 \nz\nM 19.671875 64.796875 \nL 19.671875 42.828125 \nL 34.28125 42.828125 \nQ 41.5 42.828125 45.03125 45.53125 \nQ 48.578125 48.25 48.578125 53.8125 \nQ 48.578125 59.328125 45.03125 62.0625 \nQ 41.5 64.796875 34.28125 64.796875 \nz\nM 9.8125 72.90625 \nL 35.015625 72.90625 \nQ 46.296875 72.90625 52.390625 68.21875 \nQ 58.5 63.53125 58.5 54.890625 \nQ 58.5 48.1875 55.375 44.234375 \nQ 52.25 40.28125 46.1875 39.3125 \nQ 53.46875 37.75 57.5 32.78125 \nQ 61.53125 27.828125 61.53125 20.40625 \nQ 61.53125 10.640625 54.890625 5.3125 \nQ 48.25 0 35.984375 0 \nL 9.8125 0 \nz\n\" id=\"DejaVuSans-66\"/>\n     <path d=\"M 56.203125 29.59375 \nL 56.203125 25.203125 \nL 14.890625 25.203125 \nQ 15.484375 15.921875 20.484375 11.0625 \nQ 25.484375 6.203125 34.421875 6.203125 \nQ 39.59375 6.203125 44.453125 7.46875 \nQ 49.3125 8.734375 54.109375 11.28125 \nL 54.109375 2.78125 \nQ 49.265625 0.734375 44.1875 -0.34375 \nQ 39.109375 -1.421875 33.890625 -1.421875 \nQ 20.796875 -1.421875 13.15625 6.1875 \nQ 5.515625 13.8125 5.515625 26.8125 \nQ 5.515625 40.234375 12.765625 48.109375 \nQ 20.015625 56 32.328125 56 \nQ 43.359375 56 49.78125 48.890625 \nQ 56.203125 41.796875 56.203125 29.59375 \nz\nM 47.21875 32.234375 \nQ 47.125 39.59375 43.09375 43.984375 \nQ 39.0625 48.390625 32.421875 48.390625 \nQ 24.90625 48.390625 20.390625 44.140625 \nQ 15.875 39.890625 15.1875 32.171875 \nz\n\" id=\"DejaVuSans-101\"/>\n     <path d=\"M 45.40625 46.390625 \nL 45.40625 75.984375 \nL 54.390625 75.984375 \nL 54.390625 0 \nL 45.40625 0 \nL 45.40625 8.203125 \nQ 42.578125 3.328125 38.25 0.953125 \nQ 33.9375 -1.421875 27.875 -1.421875 \nQ 17.96875 -1.421875 11.734375 6.484375 \nQ 5.515625 14.40625 5.515625 27.296875 \nQ 5.515625 40.1875 11.734375 48.09375 \nQ 17.96875 56 27.875 56 \nQ 33.9375 56 38.25 53.625 \nQ 42.578125 51.265625 45.40625 46.390625 \nz\nM 14.796875 27.296875 \nQ 14.796875 17.390625 18.875 11.75 \nQ 22.953125 6.109375 30.078125 6.109375 \nQ 37.203125 6.109375 41.296875 11.75 \nQ 45.40625 17.390625 45.40625 27.296875 \nQ 45.40625 37.203125 41.296875 42.84375 \nQ 37.203125 48.484375 30.078125 48.484375 \nQ 22.953125 48.484375 18.875 42.84375 \nQ 14.796875 37.203125 14.796875 27.296875 \nz\n\" id=\"DejaVuSans-100\"/>\n     <path d=\"M 41.109375 46.296875 \nQ 39.59375 47.171875 37.8125 47.578125 \nQ 36.03125 48 33.890625 48 \nQ 26.265625 48 22.1875 43.046875 \nQ 18.109375 38.09375 18.109375 28.8125 \nL 18.109375 0 \nL 9.078125 0 \nL 9.078125 54.6875 \nL 18.109375 54.6875 \nL 18.109375 46.1875 \nQ 20.953125 51.171875 25.484375 53.578125 \nQ 30.03125 56 36.53125 56 \nQ 37.453125 56 38.578125 55.875 \nQ 39.703125 55.765625 41.0625 55.515625 \nz\n\" id=\"DejaVuSans-114\"/>\n     <path d=\"M 30.609375 48.390625 \nQ 23.390625 48.390625 19.1875 42.75 \nQ 14.984375 37.109375 14.984375 27.296875 \nQ 14.984375 17.484375 19.15625 11.84375 \nQ 23.34375 6.203125 30.609375 6.203125 \nQ 37.796875 6.203125 41.984375 11.859375 \nQ 46.1875 17.53125 46.1875 27.296875 \nQ 46.1875 37.015625 41.984375 42.703125 \nQ 37.796875 48.390625 30.609375 48.390625 \nz\nM 30.609375 56 \nQ 42.328125 56 49.015625 48.375 \nQ 55.71875 40.765625 55.71875 27.296875 \nQ 55.71875 13.875 49.015625 6.21875 \nQ 42.328125 -1.421875 30.609375 -1.421875 \nQ 18.84375 -1.421875 12.171875 6.21875 \nQ 5.515625 13.875 5.515625 27.296875 \nQ 5.515625 40.765625 12.171875 48.375 \nQ 18.84375 56 30.609375 56 \nz\n\" id=\"DejaVuSans-111\"/>\n     <path d=\"M 52 44.1875 \nQ 55.375 50.25 60.0625 53.125 \nQ 64.75 56 71.09375 56 \nQ 79.640625 56 84.28125 50.015625 \nQ 88.921875 44.046875 88.921875 33.015625 \nL 88.921875 0 \nL 79.890625 0 \nL 79.890625 32.71875 \nQ 79.890625 40.578125 77.09375 44.375 \nQ 74.3125 48.1875 68.609375 48.1875 \nQ 61.625 48.1875 57.5625 43.546875 \nQ 53.515625 38.921875 53.515625 30.90625 \nL 53.515625 0 \nL 44.484375 0 \nL 44.484375 32.71875 \nQ 44.484375 40.625 41.703125 44.40625 \nQ 38.921875 48.1875 33.109375 48.1875 \nQ 26.21875 48.1875 22.15625 43.53125 \nQ 18.109375 38.875 18.109375 30.90625 \nL 18.109375 0 \nL 9.078125 0 \nL 9.078125 54.6875 \nL 18.109375 54.6875 \nL 18.109375 46.1875 \nQ 21.1875 51.21875 25.484375 53.609375 \nQ 29.78125 56 35.6875 56 \nQ 41.65625 56 45.828125 52.96875 \nQ 50 49.953125 52 44.1875 \nz\n\" id=\"DejaVuSans-109\"/>\n     <path id=\"DejaVuSans-32\"/>\n     <path d=\"M 54.890625 33.015625 \nL 54.890625 0 \nL 45.90625 0 \nL 45.90625 32.71875 \nQ 45.90625 40.484375 42.875 44.328125 \nQ 39.84375 48.1875 33.796875 48.1875 \nQ 26.515625 48.1875 22.3125 43.546875 \nQ 18.109375 38.921875 18.109375 30.90625 \nL 18.109375 0 \nL 9.078125 0 \nL 9.078125 54.6875 \nL 18.109375 54.6875 \nL 18.109375 46.1875 \nQ 21.34375 51.125 25.703125 53.5625 \nQ 30.078125 56 35.796875 56 \nQ 45.21875 56 50.046875 50.171875 \nQ 54.890625 44.34375 54.890625 33.015625 \nz\n\" id=\"DejaVuSans-110\"/>\n     <path d=\"M 8.5 21.578125 \nL 8.5 54.6875 \nL 17.484375 54.6875 \nL 17.484375 21.921875 \nQ 17.484375 14.15625 20.5 10.265625 \nQ 23.53125 6.390625 29.59375 6.390625 \nQ 36.859375 6.390625 41.078125 11.03125 \nQ 45.3125 15.671875 45.3125 23.6875 \nL 45.3125 54.6875 \nL 54.296875 54.6875 \nL 54.296875 0 \nL 45.3125 0 \nL 45.3125 8.40625 \nQ 42.046875 3.421875 37.71875 1 \nQ 33.40625 -1.421875 27.6875 -1.421875 \nQ 18.265625 -1.421875 13.375 4.4375 \nQ 8.5 10.296875 8.5 21.578125 \nz\nM 31.109375 56 \nz\n\" id=\"DejaVuSans-117\"/>\n     <path d=\"M 48.6875 27.296875 \nQ 48.6875 37.203125 44.609375 42.84375 \nQ 40.53125 48.484375 33.40625 48.484375 \nQ 26.265625 48.484375 22.1875 42.84375 \nQ 18.109375 37.203125 18.109375 27.296875 \nQ 18.109375 17.390625 22.1875 11.75 \nQ 26.265625 6.109375 33.40625 6.109375 \nQ 40.53125 6.109375 44.609375 11.75 \nQ 48.6875 17.390625 48.6875 27.296875 \nz\nM 18.109375 46.390625 \nQ 20.953125 51.265625 25.265625 53.625 \nQ 29.59375 56 35.59375 56 \nQ 45.5625 56 51.78125 48.09375 \nQ 58.015625 40.1875 58.015625 27.296875 \nQ 58.015625 14.40625 51.78125 6.484375 \nQ 45.5625 -1.421875 35.59375 -1.421875 \nQ 29.59375 -1.421875 25.265625 0.953125 \nQ 20.953125 3.328125 18.109375 8.203125 \nL 18.109375 0 \nL 9.078125 0 \nL 9.078125 75.984375 \nL 18.109375 75.984375 \nz\n\" id=\"DejaVuSans-98\"/>\n    </defs>\n    <g transform=\"translate(253.465313 16.318125)scale(0.12 -0.12)\">\n     <use xlink:href=\"#DejaVuSans-66\"/>\n     <use x=\"68.603516\" xlink:href=\"#DejaVuSans-101\"/>\n     <use x=\"130.126953\" xlink:href=\"#DejaVuSans-100\"/>\n     <use x=\"193.603516\" xlink:href=\"#DejaVuSans-114\"/>\n     <use x=\"232.466797\" xlink:href=\"#DejaVuSans-111\"/>\n     <use x=\"293.648438\" xlink:href=\"#DejaVuSans-111\"/>\n     <use x=\"354.830078\" xlink:href=\"#DejaVuSans-109\"/>\n     <use x=\"452.242188\" xlink:href=\"#DejaVuSans-32\"/>\n     <use x=\"484.029297\" xlink:href=\"#DejaVuSans-110\"/>\n     <use x=\"547.408203\" xlink:href=\"#DejaVuSans-117\"/>\n     <use x=\"610.787109\" xlink:href=\"#DejaVuSans-109\"/>\n     <use x=\"708.199219\" xlink:href=\"#DejaVuSans-98\"/>\n     <use x=\"771.675781\" xlink:href=\"#DejaVuSans-101\"/>\n     <use x=\"833.199219\" xlink:href=\"#DejaVuSans-114\"/>\n    </g>\n   </g>\n  </g>\n </g>\n <defs>\n  <clipPath id=\"pb34c5f5498\">\n   <rect height=\"326.16\" width=\"558\" x=\"26.925\" y=\"22.318125\"/>\n  </clipPath>\n </defs>\n</svg>\n",
      "image/png": "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\n"
     },
     "metadata": {
      "needs_background": "light"
     }
    }
   ],
   "source": [
    "# The second variable - Bedroom number\n",
    "fig, ax = plt.subplots(figsize=(10, 6))\n",
    "ax.hist(lrmv['Bedroom number'], bins=[0.5, 1.5, 2.5, 3.5, 4.5, 5.5], color='dodgerblue')\n",
    "ax.set_title('Bedroom number')"
   ]
  },
  {
   "cell_type": "code",
   "execution_count": 11,
   "metadata": {},
   "outputs": [
    {
     "output_type": "execute_result",
     "data": {
      "text/plain": [
       "Text(0, 0.5, 'House price')"
      ]
     },
     "metadata": {},
     "execution_count": 11
    },
    {
     "output_type": "display_data",
     "data": {
      "text/plain": "<Figure size 720x432 with 1 Axes>",
      "image/svg+xml": "<?xml version=\"1.0\" encoding=\"utf-8\" standalone=\"no\"?>\n<!DOCTYPE svg PUBLIC \"-//W3C//DTD SVG 1.1//EN\"\n  \"http://www.w3.org/Graphics/SVG/1.1/DTD/svg11.dtd\">\n<!-- Created with matplotlib (https://matplotlib.org/) -->\n<svg height=\"370.91625pt\" version=\"1.1\" viewBox=\"0 0 631.253125 370.91625\" width=\"631.253125pt\" xmlns=\"http://www.w3.org/2000/svg\" xmlns:xlink=\"http://www.w3.org/1999/xlink\">\n <defs>\n  <style type=\"text/css\">\n*{stroke-linecap:butt;stroke-linejoin:round;}\n  </style>\n </defs>\n <g id=\"figure_1\">\n  <g id=\"patch_1\">\n   <path d=\"M 0 370.91625 \nL 631.253125 370.91625 \nL 631.253125 0 \nL 0 0 \nz\n\" style=\"fill:none;\"/>\n  </g>\n  <g id=\"axes_1\">\n   <g id=\"patch_2\">\n    <path d=\"M 66.053125 333.36 \nL 624.053125 333.36 \nL 624.053125 7.2 \nL 66.053125 7.2 \nz\n\" style=\"fill:#ffffff;\"/>\n   </g>\n   <g id=\"PathCollection_1\">\n    <defs>\n     <path d=\"M -3 3 \nL 3 -3 \nM -3 -3 \nL 3 3 \n\" id=\"m0767059442\" style=\"stroke:#1e90ff;stroke-width:1.5;\"/>\n    </defs>\n    <g clip-path=\"url(#pe4727b0c8a)\">\n     <use style=\"fill:#1e90ff;stroke:#1e90ff;stroke-width:1.5;\" x=\"345.053125\" xlink:href=\"#m0767059442\" y=\"189.860789\"/>\n     <use style=\"fill:#1e90ff;stroke:#1e90ff;stroke-width:1.5;\" x=\"345.053125\" xlink:href=\"#m0767059442\" y=\"229.022367\"/>\n     <use style=\"fill:#1e90ff;stroke:#1e90ff;stroke-width:1.5;\" x=\"345.053125\" xlink:href=\"#m0767059442\" y=\"207.147828\"/>\n     <use style=\"fill:#1e90ff;stroke:#1e90ff;stroke-width:1.5;\" x=\"218.234943\" xlink:href=\"#m0767059442\" y=\"283.792631\"/>\n     <use style=\"fill:#1e90ff;stroke:#1e90ff;stroke-width:1.5;\" x=\"471.871307\" xlink:href=\"#m0767059442\" y=\"111.537633\"/>\n     <use style=\"fill:#1e90ff;stroke:#1e90ff;stroke-width:1.5;\" x=\"471.871307\" xlink:href=\"#m0767059442\" y=\"245.805901\"/>\n     <use style=\"fill:#1e90ff;stroke:#1e90ff;stroke-width:1.5;\" x=\"345.053125\" xlink:href=\"#m0767059442\" y=\"237.414134\"/>\n     <use style=\"fill:#1e90ff;stroke:#1e90ff;stroke-width:1.5;\" x=\"345.053125\" xlink:href=\"#m0767059442\" y=\"302.255077\"/>\n     <use style=\"fill:#1e90ff;stroke:#1e90ff;stroke-width:1.5;\" x=\"345.053125\" xlink:href=\"#m0767059442\" y=\"294.981654\"/>\n     <use style=\"fill:#1e90ff;stroke:#1e90ff;stroke-width:1.5;\" x=\"345.053125\" xlink:href=\"#m0767059442\" y=\"277.918395\"/>\n     <use style=\"fill:#1e90ff;stroke:#1e90ff;stroke-width:1.5;\" x=\"471.871307\" xlink:href=\"#m0767059442\" y=\"279.317582\"/>\n     <use style=\"fill:#1e90ff;stroke:#1e90ff;stroke-width:1.5;\" x=\"345.053125\" xlink:href=\"#m0767059442\" y=\"219.455753\"/>\n     <use style=\"fill:#1e90ff;stroke:#1e90ff;stroke-width:1.5;\" x=\"345.053125\" xlink:href=\"#m0767059442\" y=\"228.966981\"/>\n     <use style=\"fill:#1e90ff;stroke:#1e90ff;stroke-width:1.5;\" x=\"598.689489\" xlink:href=\"#m0767059442\" y=\"22.025455\"/>\n     <use style=\"fill:#1e90ff;stroke:#1e90ff;stroke-width:1.5;\" x=\"345.053125\" xlink:href=\"#m0767059442\" y=\"268.183945\"/>\n     <use style=\"fill:#1e90ff;stroke:#1e90ff;stroke-width:1.5;\" x=\"471.871307\" xlink:href=\"#m0767059442\" y=\"161.888233\"/>\n     <use style=\"fill:#1e90ff;stroke:#1e90ff;stroke-width:1.5;\" x=\"218.234943\" xlink:href=\"#m0767059442\" y=\"245.805901\"/>\n     <use style=\"fill:#1e90ff;stroke:#1e90ff;stroke-width:1.5;\" x=\"345.053125\" xlink:href=\"#m0767059442\" y=\"301.751012\"/>\n     <use style=\"fill:#1e90ff;stroke:#1e90ff;stroke-width:1.5;\" x=\"471.871307\" xlink:href=\"#m0767059442\" y=\"133.860851\"/>\n     <use style=\"fill:#1e90ff;stroke:#1e90ff;stroke-width:1.5;\" x=\"471.871307\" xlink:href=\"#m0767059442\" y=\"78.474072\"/>\n     <use style=\"fill:#1e90ff;stroke:#1e90ff;stroke-width:1.5;\" x=\"345.053125\" xlink:href=\"#m0767059442\" y=\"272.100103\"/>\n     <use style=\"fill:#1e90ff;stroke:#1e90ff;stroke-width:1.5;\" x=\"218.234943\" xlink:href=\"#m0767059442\" y=\"270.925256\"/>\n     <use style=\"fill:#1e90ff;stroke:#1e90ff;stroke-width:1.5;\" x=\"345.053125\" xlink:href=\"#m0767059442\" y=\"277.694614\"/>\n     <use style=\"fill:#1e90ff;stroke:#1e90ff;stroke-width:1.5;\" x=\"471.871307\" xlink:href=\"#m0767059442\" y=\"268.183945\"/>\n     <use style=\"fill:#1e90ff;stroke:#1e90ff;stroke-width:1.5;\" x=\"345.053125\" xlink:href=\"#m0767059442\" y=\"92.516295\"/>\n     <use style=\"fill:#1e90ff;stroke:#1e90ff;stroke-width:1.5;\" x=\"345.053125\" xlink:href=\"#m0767059442\" y=\"273.778456\"/>\n     <use style=\"fill:#1e90ff;stroke:#1e90ff;stroke-width:1.5;\" x=\"345.053125\" xlink:href=\"#m0767059442\" y=\"153.720247\"/>\n     <use style=\"fill:#1e90ff;stroke:#1e90ff;stroke-width:1.5;\" x=\"345.053125\" xlink:href=\"#m0767059442\" y=\"151.202717\"/>\n     <use style=\"fill:#1e90ff;stroke:#1e90ff;stroke-width:1.5;\" x=\"345.053125\" xlink:href=\"#m0767059442\" y=\"147.84601\"/>\n     <use style=\"fill:#1e90ff;stroke:#1e90ff;stroke-width:1.5;\" x=\"345.053125\" xlink:href=\"#m0767059442\" y=\"245.805901\"/>\n     <use style=\"fill:#1e90ff;stroke:#1e90ff;stroke-width:1.5;\" x=\"218.234943\" xlink:href=\"#m0767059442\" y=\"217.833345\"/>\n     <use style=\"fill:#1e90ff;stroke:#1e90ff;stroke-width:1.5;\" x=\"91.416761\" xlink:href=\"#m0767059442\" y=\"318.534545\"/>\n     <use style=\"fill:#1e90ff;stroke:#1e90ff;stroke-width:1.5;\" x=\"471.871307\" xlink:href=\"#m0767059442\" y=\"237.414134\"/>\n     <use style=\"fill:#1e90ff;stroke:#1e90ff;stroke-width:1.5;\" x=\"345.053125\" xlink:href=\"#m0767059442\" y=\"89.159588\"/>\n     <use style=\"fill:#1e90ff;stroke:#1e90ff;stroke-width:1.5;\" x=\"471.871307\" xlink:href=\"#m0767059442\" y=\"253.638216\"/>\n     <use style=\"fill:#1e90ff;stroke:#1e90ff;stroke-width:1.5;\" x=\"345.053125\" xlink:href=\"#m0767059442\" y=\"273.778456\"/>\n     <use style=\"fill:#1e90ff;stroke:#1e90ff;stroke-width:1.5;\" x=\"345.053125\" xlink:href=\"#m0767059442\" y=\"284.967479\"/>\n     <use style=\"fill:#1e90ff;stroke:#1e90ff;stroke-width:1.5;\" x=\"471.871307\" xlink:href=\"#m0767059442\" y=\"220.574655\"/>\n     <use style=\"fill:#1e90ff;stroke:#1e90ff;stroke-width:1.5;\" x=\"471.871307\" xlink:href=\"#m0767059442\" y=\"106.446628\"/>\n     <use style=\"fill:#1e90ff;stroke:#1e90ff;stroke-width:1.5;\" x=\"471.871307\" xlink:href=\"#m0767059442\" y=\"253.02282\"/>\n     <use style=\"fill:#1e90ff;stroke:#1e90ff;stroke-width:1.5;\" x=\"218.234943\" xlink:href=\"#m0767059442\" y=\"207.427554\"/>\n     <use style=\"fill:#1e90ff;stroke:#1e90ff;stroke-width:1.5;\" x=\"345.053125\" xlink:href=\"#m0767059442\" y=\"229.022367\"/>\n     <use style=\"fill:#1e90ff;stroke:#1e90ff;stroke-width:1.5;\" x=\"471.871307\" xlink:href=\"#m0767059442\" y=\"237.91764\"/>\n     <use style=\"fill:#1e90ff;stroke:#1e90ff;stroke-width:1.5;\" x=\"345.053125\" xlink:href=\"#m0767059442\" y=\"246.309407\"/>\n     <use style=\"fill:#1e90ff;stroke:#1e90ff;stroke-width:1.5;\" x=\"218.234943\" xlink:href=\"#m0767059442\" y=\"312.940034\"/>\n     <use style=\"fill:#1e90ff;stroke:#1e90ff;stroke-width:1.5;\" x=\"471.871307\" xlink:href=\"#m0767059442\" y=\"245.805901\"/>\n     <use style=\"fill:#1e90ff;stroke:#1e90ff;stroke-width:1.5;\" x=\"345.053125\" xlink:href=\"#m0767059442\" y=\"279.596748\"/>\n    </g>\n   </g>\n   <g id=\"matplotlib.axis_1\">\n    <g id=\"xtick_1\">\n     <g id=\"line2d_1\">\n      <defs>\n       <path d=\"M 0 0 \nL 0 3.5 \n\" id=\"m5c5ffd5ef7\" style=\"stroke:#000000;stroke-width:0.8;\"/>\n      </defs>\n      <g>\n       <use style=\"stroke:#000000;stroke-width:0.8;\" x=\"91.416761\" xlink:href=\"#m5c5ffd5ef7\" y=\"333.36\"/>\n      </g>\n     </g>\n     <g id=\"text_1\">\n      <!-- 1.0 -->\n      <defs>\n       <path d=\"M 12.40625 8.296875 \nL 28.515625 8.296875 \nL 28.515625 63.921875 \nL 10.984375 60.40625 \nL 10.984375 69.390625 \nL 28.421875 72.90625 \nL 38.28125 72.90625 \nL 38.28125 8.296875 \nL 54.390625 8.296875 \nL 54.390625 0 \nL 12.40625 0 \nz\n\" id=\"DejaVuSans-49\"/>\n       <path d=\"M 10.6875 12.40625 \nL 21 12.40625 \nL 21 0 \nL 10.6875 0 \nz\n\" id=\"DejaVuSans-46\"/>\n       <path d=\"M 31.78125 66.40625 \nQ 24.171875 66.40625 20.328125 58.90625 \nQ 16.5 51.421875 16.5 36.375 \nQ 16.5 21.390625 20.328125 13.890625 \nQ 24.171875 6.390625 31.78125 6.390625 \nQ 39.453125 6.390625 43.28125 13.890625 \nQ 47.125 21.390625 47.125 36.375 \nQ 47.125 51.421875 43.28125 58.90625 \nQ 39.453125 66.40625 31.78125 66.40625 \nz\nM 31.78125 74.21875 \nQ 44.046875 74.21875 50.515625 64.515625 \nQ 56.984375 54.828125 56.984375 36.375 \nQ 56.984375 17.96875 50.515625 8.265625 \nQ 44.046875 -1.421875 31.78125 -1.421875 \nQ 19.53125 -1.421875 13.0625 8.265625 \nQ 6.59375 17.96875 6.59375 36.375 \nQ 6.59375 54.828125 13.0625 64.515625 \nQ 19.53125 74.21875 31.78125 74.21875 \nz\n\" id=\"DejaVuSans-48\"/>\n      </defs>\n      <g transform=\"translate(83.465199 347.958438)scale(0.1 -0.1)\">\n       <use xlink:href=\"#DejaVuSans-49\"/>\n       <use x=\"63.623047\" xlink:href=\"#DejaVuSans-46\"/>\n       <use x=\"95.410156\" xlink:href=\"#DejaVuSans-48\"/>\n      </g>\n     </g>\n    </g>\n    <g id=\"xtick_2\">\n     <g id=\"line2d_2\">\n      <g>\n       <use style=\"stroke:#000000;stroke-width:0.8;\" x=\"154.825852\" xlink:href=\"#m5c5ffd5ef7\" y=\"333.36\"/>\n      </g>\n     </g>\n     <g id=\"text_2\">\n      <!-- 1.5 -->\n      <defs>\n       <path d=\"M 10.796875 72.90625 \nL 49.515625 72.90625 \nL 49.515625 64.59375 \nL 19.828125 64.59375 \nL 19.828125 46.734375 \nQ 21.96875 47.46875 24.109375 47.828125 \nQ 26.265625 48.1875 28.421875 48.1875 \nQ 40.625 48.1875 47.75 41.5 \nQ 54.890625 34.8125 54.890625 23.390625 \nQ 54.890625 11.625 47.5625 5.09375 \nQ 40.234375 -1.421875 26.90625 -1.421875 \nQ 22.3125 -1.421875 17.546875 -0.640625 \nQ 12.796875 0.140625 7.71875 1.703125 \nL 7.71875 11.625 \nQ 12.109375 9.234375 16.796875 8.0625 \nQ 21.484375 6.890625 26.703125 6.890625 \nQ 35.15625 6.890625 40.078125 11.328125 \nQ 45.015625 15.765625 45.015625 23.390625 \nQ 45.015625 31 40.078125 35.4375 \nQ 35.15625 39.890625 26.703125 39.890625 \nQ 22.75 39.890625 18.8125 39.015625 \nQ 14.890625 38.140625 10.796875 36.28125 \nz\n\" id=\"DejaVuSans-53\"/>\n      </defs>\n      <g transform=\"translate(146.87429 347.958438)scale(0.1 -0.1)\">\n       <use xlink:href=\"#DejaVuSans-49\"/>\n       <use x=\"63.623047\" xlink:href=\"#DejaVuSans-46\"/>\n       <use x=\"95.410156\" xlink:href=\"#DejaVuSans-53\"/>\n      </g>\n     </g>\n    </g>\n    <g id=\"xtick_3\">\n     <g id=\"line2d_3\">\n      <g>\n       <use style=\"stroke:#000000;stroke-width:0.8;\" x=\"218.234943\" xlink:href=\"#m5c5ffd5ef7\" y=\"333.36\"/>\n      </g>\n     </g>\n     <g id=\"text_3\">\n      <!-- 2.0 -->\n      <defs>\n       <path d=\"M 19.1875 8.296875 \nL 53.609375 8.296875 \nL 53.609375 0 \nL 7.328125 0 \nL 7.328125 8.296875 \nQ 12.9375 14.109375 22.625 23.890625 \nQ 32.328125 33.6875 34.8125 36.53125 \nQ 39.546875 41.84375 41.421875 45.53125 \nQ 43.3125 49.21875 43.3125 52.78125 \nQ 43.3125 58.59375 39.234375 62.25 \nQ 35.15625 65.921875 28.609375 65.921875 \nQ 23.96875 65.921875 18.8125 64.3125 \nQ 13.671875 62.703125 7.8125 59.421875 \nL 7.8125 69.390625 \nQ 13.765625 71.78125 18.9375 73 \nQ 24.125 74.21875 28.421875 74.21875 \nQ 39.75 74.21875 46.484375 68.546875 \nQ 53.21875 62.890625 53.21875 53.421875 \nQ 53.21875 48.921875 51.53125 44.890625 \nQ 49.859375 40.875 45.40625 35.40625 \nQ 44.1875 33.984375 37.640625 27.21875 \nQ 31.109375 20.453125 19.1875 8.296875 \nz\n\" id=\"DejaVuSans-50\"/>\n      </defs>\n      <g transform=\"translate(210.283381 347.958438)scale(0.1 -0.1)\">\n       <use xlink:href=\"#DejaVuSans-50\"/>\n       <use x=\"63.623047\" xlink:href=\"#DejaVuSans-46\"/>\n       <use x=\"95.410156\" xlink:href=\"#DejaVuSans-48\"/>\n      </g>\n     </g>\n    </g>\n    <g id=\"xtick_4\">\n     <g id=\"line2d_4\">\n      <g>\n       <use style=\"stroke:#000000;stroke-width:0.8;\" x=\"281.644034\" xlink:href=\"#m5c5ffd5ef7\" y=\"333.36\"/>\n      </g>\n     </g>\n     <g id=\"text_4\">\n      <!-- 2.5 -->\n      <g transform=\"translate(273.692472 347.958438)scale(0.1 -0.1)\">\n       <use xlink:href=\"#DejaVuSans-50\"/>\n       <use x=\"63.623047\" xlink:href=\"#DejaVuSans-46\"/>\n       <use x=\"95.410156\" xlink:href=\"#DejaVuSans-53\"/>\n      </g>\n     </g>\n    </g>\n    <g id=\"xtick_5\">\n     <g id=\"line2d_5\">\n      <g>\n       <use style=\"stroke:#000000;stroke-width:0.8;\" x=\"345.053125\" xlink:href=\"#m5c5ffd5ef7\" y=\"333.36\"/>\n      </g>\n     </g>\n     <g id=\"text_5\">\n      <!-- 3.0 -->\n      <defs>\n       <path d=\"M 40.578125 39.3125 \nQ 47.65625 37.796875 51.625 33 \nQ 55.609375 28.21875 55.609375 21.1875 \nQ 55.609375 10.40625 48.1875 4.484375 \nQ 40.765625 -1.421875 27.09375 -1.421875 \nQ 22.515625 -1.421875 17.65625 -0.515625 \nQ 12.796875 0.390625 7.625 2.203125 \nL 7.625 11.71875 \nQ 11.71875 9.328125 16.59375 8.109375 \nQ 21.484375 6.890625 26.8125 6.890625 \nQ 36.078125 6.890625 40.9375 10.546875 \nQ 45.796875 14.203125 45.796875 21.1875 \nQ 45.796875 27.640625 41.28125 31.265625 \nQ 36.765625 34.90625 28.71875 34.90625 \nL 20.21875 34.90625 \nL 20.21875 43.015625 \nL 29.109375 43.015625 \nQ 36.375 43.015625 40.234375 45.921875 \nQ 44.09375 48.828125 44.09375 54.296875 \nQ 44.09375 59.90625 40.109375 62.90625 \nQ 36.140625 65.921875 28.71875 65.921875 \nQ 24.65625 65.921875 20.015625 65.03125 \nQ 15.375 64.15625 9.8125 62.3125 \nL 9.8125 71.09375 \nQ 15.4375 72.65625 20.34375 73.4375 \nQ 25.25 74.21875 29.59375 74.21875 \nQ 40.828125 74.21875 47.359375 69.109375 \nQ 53.90625 64.015625 53.90625 55.328125 \nQ 53.90625 49.265625 50.4375 45.09375 \nQ 46.96875 40.921875 40.578125 39.3125 \nz\n\" id=\"DejaVuSans-51\"/>\n      </defs>\n      <g transform=\"translate(337.101562 347.958438)scale(0.1 -0.1)\">\n       <use xlink:href=\"#DejaVuSans-51\"/>\n       <use x=\"63.623047\" xlink:href=\"#DejaVuSans-46\"/>\n       <use x=\"95.410156\" xlink:href=\"#DejaVuSans-48\"/>\n      </g>\n     </g>\n    </g>\n    <g id=\"xtick_6\">\n     <g id=\"line2d_6\">\n      <g>\n       <use style=\"stroke:#000000;stroke-width:0.8;\" x=\"408.462216\" xlink:href=\"#m5c5ffd5ef7\" y=\"333.36\"/>\n      </g>\n     </g>\n     <g id=\"text_6\">\n      <!-- 3.5 -->\n      <g transform=\"translate(400.510653 347.958438)scale(0.1 -0.1)\">\n       <use xlink:href=\"#DejaVuSans-51\"/>\n       <use x=\"63.623047\" xlink:href=\"#DejaVuSans-46\"/>\n       <use x=\"95.410156\" xlink:href=\"#DejaVuSans-53\"/>\n      </g>\n     </g>\n    </g>\n    <g id=\"xtick_7\">\n     <g id=\"line2d_7\">\n      <g>\n       <use style=\"stroke:#000000;stroke-width:0.8;\" x=\"471.871307\" xlink:href=\"#m5c5ffd5ef7\" y=\"333.36\"/>\n      </g>\n     </g>\n     <g id=\"text_7\">\n      <!-- 4.0 -->\n      <defs>\n       <path d=\"M 37.796875 64.3125 \nL 12.890625 25.390625 \nL 37.796875 25.390625 \nz\nM 35.203125 72.90625 \nL 47.609375 72.90625 \nL 47.609375 25.390625 \nL 58.015625 25.390625 \nL 58.015625 17.1875 \nL 47.609375 17.1875 \nL 47.609375 0 \nL 37.796875 0 \nL 37.796875 17.1875 \nL 4.890625 17.1875 \nL 4.890625 26.703125 \nz\n\" id=\"DejaVuSans-52\"/>\n      </defs>\n      <g transform=\"translate(463.919744 347.958438)scale(0.1 -0.1)\">\n       <use xlink:href=\"#DejaVuSans-52\"/>\n       <use x=\"63.623047\" xlink:href=\"#DejaVuSans-46\"/>\n       <use x=\"95.410156\" xlink:href=\"#DejaVuSans-48\"/>\n      </g>\n     </g>\n    </g>\n    <g id=\"xtick_8\">\n     <g id=\"line2d_8\">\n      <g>\n       <use style=\"stroke:#000000;stroke-width:0.8;\" x=\"535.280398\" xlink:href=\"#m5c5ffd5ef7\" y=\"333.36\"/>\n      </g>\n     </g>\n     <g id=\"text_8\">\n      <!-- 4.5 -->\n      <g transform=\"translate(527.328835 347.958438)scale(0.1 -0.1)\">\n       <use xlink:href=\"#DejaVuSans-52\"/>\n       <use x=\"63.623047\" xlink:href=\"#DejaVuSans-46\"/>\n       <use x=\"95.410156\" xlink:href=\"#DejaVuSans-53\"/>\n      </g>\n     </g>\n    </g>\n    <g id=\"xtick_9\">\n     <g id=\"line2d_9\">\n      <g>\n       <use style=\"stroke:#000000;stroke-width:0.8;\" x=\"598.689489\" xlink:href=\"#m5c5ffd5ef7\" y=\"333.36\"/>\n      </g>\n     </g>\n     <g id=\"text_9\">\n      <!-- 5.0 -->\n      <g transform=\"translate(590.737926 347.958438)scale(0.1 -0.1)\">\n       <use xlink:href=\"#DejaVuSans-53\"/>\n       <use x=\"63.623047\" xlink:href=\"#DejaVuSans-46\"/>\n       <use x=\"95.410156\" xlink:href=\"#DejaVuSans-48\"/>\n      </g>\n     </g>\n    </g>\n    <g id=\"text_10\">\n     <!-- Bedroom number -->\n     <defs>\n      <path d=\"M 19.671875 34.8125 \nL 19.671875 8.109375 \nL 35.5 8.109375 \nQ 43.453125 8.109375 47.28125 11.40625 \nQ 51.125 14.703125 51.125 21.484375 \nQ 51.125 28.328125 47.28125 31.5625 \nQ 43.453125 34.8125 35.5 34.8125 \nz\nM 19.671875 64.796875 \nL 19.671875 42.828125 \nL 34.28125 42.828125 \nQ 41.5 42.828125 45.03125 45.53125 \nQ 48.578125 48.25 48.578125 53.8125 \nQ 48.578125 59.328125 45.03125 62.0625 \nQ 41.5 64.796875 34.28125 64.796875 \nz\nM 9.8125 72.90625 \nL 35.015625 72.90625 \nQ 46.296875 72.90625 52.390625 68.21875 \nQ 58.5 63.53125 58.5 54.890625 \nQ 58.5 48.1875 55.375 44.234375 \nQ 52.25 40.28125 46.1875 39.3125 \nQ 53.46875 37.75 57.5 32.78125 \nQ 61.53125 27.828125 61.53125 20.40625 \nQ 61.53125 10.640625 54.890625 5.3125 \nQ 48.25 0 35.984375 0 \nL 9.8125 0 \nz\n\" id=\"DejaVuSans-66\"/>\n      <path d=\"M 56.203125 29.59375 \nL 56.203125 25.203125 \nL 14.890625 25.203125 \nQ 15.484375 15.921875 20.484375 11.0625 \nQ 25.484375 6.203125 34.421875 6.203125 \nQ 39.59375 6.203125 44.453125 7.46875 \nQ 49.3125 8.734375 54.109375 11.28125 \nL 54.109375 2.78125 \nQ 49.265625 0.734375 44.1875 -0.34375 \nQ 39.109375 -1.421875 33.890625 -1.421875 \nQ 20.796875 -1.421875 13.15625 6.1875 \nQ 5.515625 13.8125 5.515625 26.8125 \nQ 5.515625 40.234375 12.765625 48.109375 \nQ 20.015625 56 32.328125 56 \nQ 43.359375 56 49.78125 48.890625 \nQ 56.203125 41.796875 56.203125 29.59375 \nz\nM 47.21875 32.234375 \nQ 47.125 39.59375 43.09375 43.984375 \nQ 39.0625 48.390625 32.421875 48.390625 \nQ 24.90625 48.390625 20.390625 44.140625 \nQ 15.875 39.890625 15.1875 32.171875 \nz\n\" id=\"DejaVuSans-101\"/>\n      <path d=\"M 45.40625 46.390625 \nL 45.40625 75.984375 \nL 54.390625 75.984375 \nL 54.390625 0 \nL 45.40625 0 \nL 45.40625 8.203125 \nQ 42.578125 3.328125 38.25 0.953125 \nQ 33.9375 -1.421875 27.875 -1.421875 \nQ 17.96875 -1.421875 11.734375 6.484375 \nQ 5.515625 14.40625 5.515625 27.296875 \nQ 5.515625 40.1875 11.734375 48.09375 \nQ 17.96875 56 27.875 56 \nQ 33.9375 56 38.25 53.625 \nQ 42.578125 51.265625 45.40625 46.390625 \nz\nM 14.796875 27.296875 \nQ 14.796875 17.390625 18.875 11.75 \nQ 22.953125 6.109375 30.078125 6.109375 \nQ 37.203125 6.109375 41.296875 11.75 \nQ 45.40625 17.390625 45.40625 27.296875 \nQ 45.40625 37.203125 41.296875 42.84375 \nQ 37.203125 48.484375 30.078125 48.484375 \nQ 22.953125 48.484375 18.875 42.84375 \nQ 14.796875 37.203125 14.796875 27.296875 \nz\n\" id=\"DejaVuSans-100\"/>\n      <path d=\"M 41.109375 46.296875 \nQ 39.59375 47.171875 37.8125 47.578125 \nQ 36.03125 48 33.890625 48 \nQ 26.265625 48 22.1875 43.046875 \nQ 18.109375 38.09375 18.109375 28.8125 \nL 18.109375 0 \nL 9.078125 0 \nL 9.078125 54.6875 \nL 18.109375 54.6875 \nL 18.109375 46.1875 \nQ 20.953125 51.171875 25.484375 53.578125 \nQ 30.03125 56 36.53125 56 \nQ 37.453125 56 38.578125 55.875 \nQ 39.703125 55.765625 41.0625 55.515625 \nz\n\" id=\"DejaVuSans-114\"/>\n      <path d=\"M 30.609375 48.390625 \nQ 23.390625 48.390625 19.1875 42.75 \nQ 14.984375 37.109375 14.984375 27.296875 \nQ 14.984375 17.484375 19.15625 11.84375 \nQ 23.34375 6.203125 30.609375 6.203125 \nQ 37.796875 6.203125 41.984375 11.859375 \nQ 46.1875 17.53125 46.1875 27.296875 \nQ 46.1875 37.015625 41.984375 42.703125 \nQ 37.796875 48.390625 30.609375 48.390625 \nz\nM 30.609375 56 \nQ 42.328125 56 49.015625 48.375 \nQ 55.71875 40.765625 55.71875 27.296875 \nQ 55.71875 13.875 49.015625 6.21875 \nQ 42.328125 -1.421875 30.609375 -1.421875 \nQ 18.84375 -1.421875 12.171875 6.21875 \nQ 5.515625 13.875 5.515625 27.296875 \nQ 5.515625 40.765625 12.171875 48.375 \nQ 18.84375 56 30.609375 56 \nz\n\" id=\"DejaVuSans-111\"/>\n      <path d=\"M 52 44.1875 \nQ 55.375 50.25 60.0625 53.125 \nQ 64.75 56 71.09375 56 \nQ 79.640625 56 84.28125 50.015625 \nQ 88.921875 44.046875 88.921875 33.015625 \nL 88.921875 0 \nL 79.890625 0 \nL 79.890625 32.71875 \nQ 79.890625 40.578125 77.09375 44.375 \nQ 74.3125 48.1875 68.609375 48.1875 \nQ 61.625 48.1875 57.5625 43.546875 \nQ 53.515625 38.921875 53.515625 30.90625 \nL 53.515625 0 \nL 44.484375 0 \nL 44.484375 32.71875 \nQ 44.484375 40.625 41.703125 44.40625 \nQ 38.921875 48.1875 33.109375 48.1875 \nQ 26.21875 48.1875 22.15625 43.53125 \nQ 18.109375 38.875 18.109375 30.90625 \nL 18.109375 0 \nL 9.078125 0 \nL 9.078125 54.6875 \nL 18.109375 54.6875 \nL 18.109375 46.1875 \nQ 21.1875 51.21875 25.484375 53.609375 \nQ 29.78125 56 35.6875 56 \nQ 41.65625 56 45.828125 52.96875 \nQ 50 49.953125 52 44.1875 \nz\n\" id=\"DejaVuSans-109\"/>\n      <path id=\"DejaVuSans-32\"/>\n      <path d=\"M 54.890625 33.015625 \nL 54.890625 0 \nL 45.90625 0 \nL 45.90625 32.71875 \nQ 45.90625 40.484375 42.875 44.328125 \nQ 39.84375 48.1875 33.796875 48.1875 \nQ 26.515625 48.1875 22.3125 43.546875 \nQ 18.109375 38.921875 18.109375 30.90625 \nL 18.109375 0 \nL 9.078125 0 \nL 9.078125 54.6875 \nL 18.109375 54.6875 \nL 18.109375 46.1875 \nQ 21.34375 51.125 25.703125 53.5625 \nQ 30.078125 56 35.796875 56 \nQ 45.21875 56 50.046875 50.171875 \nQ 54.890625 44.34375 54.890625 33.015625 \nz\n\" id=\"DejaVuSans-110\"/>\n      <path d=\"M 8.5 21.578125 \nL 8.5 54.6875 \nL 17.484375 54.6875 \nL 17.484375 21.921875 \nQ 17.484375 14.15625 20.5 10.265625 \nQ 23.53125 6.390625 29.59375 6.390625 \nQ 36.859375 6.390625 41.078125 11.03125 \nQ 45.3125 15.671875 45.3125 23.6875 \nL 45.3125 54.6875 \nL 54.296875 54.6875 \nL 54.296875 0 \nL 45.3125 0 \nL 45.3125 8.40625 \nQ 42.046875 3.421875 37.71875 1 \nQ 33.40625 -1.421875 27.6875 -1.421875 \nQ 18.265625 -1.421875 13.375 4.4375 \nQ 8.5 10.296875 8.5 21.578125 \nz\nM 31.109375 56 \nz\n\" id=\"DejaVuSans-117\"/>\n      <path d=\"M 48.6875 27.296875 \nQ 48.6875 37.203125 44.609375 42.84375 \nQ 40.53125 48.484375 33.40625 48.484375 \nQ 26.265625 48.484375 22.1875 42.84375 \nQ 18.109375 37.203125 18.109375 27.296875 \nQ 18.109375 17.390625 22.1875 11.75 \nQ 26.265625 6.109375 33.40625 6.109375 \nQ 40.53125 6.109375 44.609375 11.75 \nQ 48.6875 17.390625 48.6875 27.296875 \nz\nM 18.109375 46.390625 \nQ 20.953125 51.265625 25.265625 53.625 \nQ 29.59375 56 35.59375 56 \nQ 45.5625 56 51.78125 48.09375 \nQ 58.015625 40.1875 58.015625 27.296875 \nQ 58.015625 14.40625 51.78125 6.484375 \nQ 45.5625 -1.421875 35.59375 -1.421875 \nQ 29.59375 -1.421875 25.265625 0.953125 \nQ 20.953125 3.328125 18.109375 8.203125 \nL 18.109375 0 \nL 9.078125 0 \nL 9.078125 75.984375 \nL 18.109375 75.984375 \nz\n\" id=\"DejaVuSans-98\"/>\n     </defs>\n     <g transform=\"translate(301.336719 361.636563)scale(0.1 -0.1)\">\n      <use xlink:href=\"#DejaVuSans-66\"/>\n      <use x=\"68.603516\" xlink:href=\"#DejaVuSans-101\"/>\n      <use x=\"130.126953\" xlink:href=\"#DejaVuSans-100\"/>\n      <use x=\"193.603516\" xlink:href=\"#DejaVuSans-114\"/>\n      <use x=\"232.466797\" xlink:href=\"#DejaVuSans-111\"/>\n      <use x=\"293.648438\" xlink:href=\"#DejaVuSans-111\"/>\n      <use x=\"354.830078\" xlink:href=\"#DejaVuSans-109\"/>\n      <use x=\"452.242188\" xlink:href=\"#DejaVuSans-32\"/>\n      <use x=\"484.029297\" xlink:href=\"#DejaVuSans-110\"/>\n      <use x=\"547.408203\" xlink:href=\"#DejaVuSans-117\"/>\n      <use x=\"610.787109\" xlink:href=\"#DejaVuSans-109\"/>\n      <use x=\"708.199219\" xlink:href=\"#DejaVuSans-98\"/>\n      <use x=\"771.675781\" xlink:href=\"#DejaVuSans-101\"/>\n      <use x=\"833.199219\" xlink:href=\"#DejaVuSans-114\"/>\n     </g>\n    </g>\n   </g>\n   <g id=\"matplotlib.axis_2\">\n    <g id=\"ytick_1\">\n     <g id=\"line2d_10\">\n      <defs>\n       <path d=\"M 0 0 \nL -3.5 0 \n\" id=\"m45e27939cc\" style=\"stroke:#000000;stroke-width:0.8;\"/>\n      </defs>\n      <g>\n       <use style=\"stroke:#000000;stroke-width:0.8;\" x=\"66.053125\" xlink:href=\"#m45e27939cc\" y=\"301.695067\"/>\n      </g>\n     </g>\n     <g id=\"text_11\">\n      <!-- 200000 -->\n      <g transform=\"translate(20.878125 305.494286)scale(0.1 -0.1)\">\n       <use xlink:href=\"#DejaVuSans-50\"/>\n       <use x=\"63.623047\" xlink:href=\"#DejaVuSans-48\"/>\n       <use x=\"127.246094\" xlink:href=\"#DejaVuSans-48\"/>\n       <use x=\"190.869141\" xlink:href=\"#DejaVuSans-48\"/>\n       <use x=\"254.492188\" xlink:href=\"#DejaVuSans-48\"/>\n       <use x=\"318.115234\" xlink:href=\"#DejaVuSans-48\"/>\n      </g>\n     </g>\n    </g>\n    <g id=\"ytick_2\">\n     <g id=\"line2d_11\">\n      <g>\n       <use style=\"stroke:#000000;stroke-width:0.8;\" x=\"66.053125\" xlink:href=\"#m45e27939cc\" y=\"245.749955\"/>\n      </g>\n     </g>\n     <g id=\"text_12\">\n      <!-- 300000 -->\n      <g transform=\"translate(20.878125 249.549174)scale(0.1 -0.1)\">\n       <use xlink:href=\"#DejaVuSans-51\"/>\n       <use x=\"63.623047\" xlink:href=\"#DejaVuSans-48\"/>\n       <use x=\"127.246094\" xlink:href=\"#DejaVuSans-48\"/>\n       <use x=\"190.869141\" xlink:href=\"#DejaVuSans-48\"/>\n       <use x=\"254.492188\" xlink:href=\"#DejaVuSans-48\"/>\n       <use x=\"318.115234\" xlink:href=\"#DejaVuSans-48\"/>\n      </g>\n     </g>\n    </g>\n    <g id=\"ytick_3\">\n     <g id=\"line2d_12\">\n      <g>\n       <use style=\"stroke:#000000;stroke-width:0.8;\" x=\"66.053125\" xlink:href=\"#m45e27939cc\" y=\"189.804844\"/>\n      </g>\n     </g>\n     <g id=\"text_13\">\n      <!-- 400000 -->\n      <g transform=\"translate(20.878125 193.604063)scale(0.1 -0.1)\">\n       <use xlink:href=\"#DejaVuSans-52\"/>\n       <use x=\"63.623047\" xlink:href=\"#DejaVuSans-48\"/>\n       <use x=\"127.246094\" xlink:href=\"#DejaVuSans-48\"/>\n       <use x=\"190.869141\" xlink:href=\"#DejaVuSans-48\"/>\n       <use x=\"254.492188\" xlink:href=\"#DejaVuSans-48\"/>\n       <use x=\"318.115234\" xlink:href=\"#DejaVuSans-48\"/>\n      </g>\n     </g>\n    </g>\n    <g id=\"ytick_4\">\n     <g id=\"line2d_13\">\n      <g>\n       <use style=\"stroke:#000000;stroke-width:0.8;\" x=\"66.053125\" xlink:href=\"#m45e27939cc\" y=\"133.859732\"/>\n      </g>\n     </g>\n     <g id=\"text_14\">\n      <!-- 500000 -->\n      <g transform=\"translate(20.878125 137.658951)scale(0.1 -0.1)\">\n       <use xlink:href=\"#DejaVuSans-53\"/>\n       <use x=\"63.623047\" xlink:href=\"#DejaVuSans-48\"/>\n       <use x=\"127.246094\" xlink:href=\"#DejaVuSans-48\"/>\n       <use x=\"190.869141\" xlink:href=\"#DejaVuSans-48\"/>\n       <use x=\"254.492188\" xlink:href=\"#DejaVuSans-48\"/>\n       <use x=\"318.115234\" xlink:href=\"#DejaVuSans-48\"/>\n      </g>\n     </g>\n    </g>\n    <g id=\"ytick_5\">\n     <g id=\"line2d_14\">\n      <g>\n       <use style=\"stroke:#000000;stroke-width:0.8;\" x=\"66.053125\" xlink:href=\"#m45e27939cc\" y=\"77.914621\"/>\n      </g>\n     </g>\n     <g id=\"text_15\">\n      <!-- 600000 -->\n      <defs>\n       <path d=\"M 33.015625 40.375 \nQ 26.375 40.375 22.484375 35.828125 \nQ 18.609375 31.296875 18.609375 23.390625 \nQ 18.609375 15.53125 22.484375 10.953125 \nQ 26.375 6.390625 33.015625 6.390625 \nQ 39.65625 6.390625 43.53125 10.953125 \nQ 47.40625 15.53125 47.40625 23.390625 \nQ 47.40625 31.296875 43.53125 35.828125 \nQ 39.65625 40.375 33.015625 40.375 \nz\nM 52.59375 71.296875 \nL 52.59375 62.3125 \nQ 48.875 64.0625 45.09375 64.984375 \nQ 41.3125 65.921875 37.59375 65.921875 \nQ 27.828125 65.921875 22.671875 59.328125 \nQ 17.53125 52.734375 16.796875 39.40625 \nQ 19.671875 43.65625 24.015625 45.921875 \nQ 28.375 48.1875 33.59375 48.1875 \nQ 44.578125 48.1875 50.953125 41.515625 \nQ 57.328125 34.859375 57.328125 23.390625 \nQ 57.328125 12.15625 50.6875 5.359375 \nQ 44.046875 -1.421875 33.015625 -1.421875 \nQ 20.359375 -1.421875 13.671875 8.265625 \nQ 6.984375 17.96875 6.984375 36.375 \nQ 6.984375 53.65625 15.1875 63.9375 \nQ 23.390625 74.21875 37.203125 74.21875 \nQ 40.921875 74.21875 44.703125 73.484375 \nQ 48.484375 72.75 52.59375 71.296875 \nz\n\" id=\"DejaVuSans-54\"/>\n      </defs>\n      <g transform=\"translate(20.878125 81.71384)scale(0.1 -0.1)\">\n       <use xlink:href=\"#DejaVuSans-54\"/>\n       <use x=\"63.623047\" xlink:href=\"#DejaVuSans-48\"/>\n       <use x=\"127.246094\" xlink:href=\"#DejaVuSans-48\"/>\n       <use x=\"190.869141\" xlink:href=\"#DejaVuSans-48\"/>\n       <use x=\"254.492188\" xlink:href=\"#DejaVuSans-48\"/>\n       <use x=\"318.115234\" xlink:href=\"#DejaVuSans-48\"/>\n      </g>\n     </g>\n    </g>\n    <g id=\"ytick_6\">\n     <g id=\"line2d_15\">\n      <g>\n       <use style=\"stroke:#000000;stroke-width:0.8;\" x=\"66.053125\" xlink:href=\"#m45e27939cc\" y=\"21.969509\"/>\n      </g>\n     </g>\n     <g id=\"text_16\">\n      <!-- 700000 -->\n      <defs>\n       <path d=\"M 8.203125 72.90625 \nL 55.078125 72.90625 \nL 55.078125 68.703125 \nL 28.609375 0 \nL 18.3125 0 \nL 43.21875 64.59375 \nL 8.203125 64.59375 \nz\n\" id=\"DejaVuSans-55\"/>\n      </defs>\n      <g transform=\"translate(20.878125 25.768728)scale(0.1 -0.1)\">\n       <use xlink:href=\"#DejaVuSans-55\"/>\n       <use x=\"63.623047\" xlink:href=\"#DejaVuSans-48\"/>\n       <use x=\"127.246094\" xlink:href=\"#DejaVuSans-48\"/>\n       <use x=\"190.869141\" xlink:href=\"#DejaVuSans-48\"/>\n       <use x=\"254.492188\" xlink:href=\"#DejaVuSans-48\"/>\n       <use x=\"318.115234\" xlink:href=\"#DejaVuSans-48\"/>\n      </g>\n     </g>\n    </g>\n    <g id=\"text_17\">\n     <!-- House price -->\n     <defs>\n      <path d=\"M 9.8125 72.90625 \nL 19.671875 72.90625 \nL 19.671875 43.015625 \nL 55.515625 43.015625 \nL 55.515625 72.90625 \nL 65.375 72.90625 \nL 65.375 0 \nL 55.515625 0 \nL 55.515625 34.71875 \nL 19.671875 34.71875 \nL 19.671875 0 \nL 9.8125 0 \nz\n\" id=\"DejaVuSans-72\"/>\n      <path d=\"M 44.28125 53.078125 \nL 44.28125 44.578125 \nQ 40.484375 46.53125 36.375 47.5 \nQ 32.28125 48.484375 27.875 48.484375 \nQ 21.1875 48.484375 17.84375 46.4375 \nQ 14.5 44.390625 14.5 40.28125 \nQ 14.5 37.15625 16.890625 35.375 \nQ 19.28125 33.59375 26.515625 31.984375 \nL 29.59375 31.296875 \nQ 39.15625 29.25 43.1875 25.515625 \nQ 47.21875 21.78125 47.21875 15.09375 \nQ 47.21875 7.46875 41.1875 3.015625 \nQ 35.15625 -1.421875 24.609375 -1.421875 \nQ 20.21875 -1.421875 15.453125 -0.5625 \nQ 10.6875 0.296875 5.421875 2 \nL 5.421875 11.28125 \nQ 10.40625 8.6875 15.234375 7.390625 \nQ 20.0625 6.109375 24.8125 6.109375 \nQ 31.15625 6.109375 34.5625 8.28125 \nQ 37.984375 10.453125 37.984375 14.40625 \nQ 37.984375 18.0625 35.515625 20.015625 \nQ 33.0625 21.96875 24.703125 23.78125 \nL 21.578125 24.515625 \nQ 13.234375 26.265625 9.515625 29.90625 \nQ 5.8125 33.546875 5.8125 39.890625 \nQ 5.8125 47.609375 11.28125 51.796875 \nQ 16.75 56 26.8125 56 \nQ 31.78125 56 36.171875 55.265625 \nQ 40.578125 54.546875 44.28125 53.078125 \nz\n\" id=\"DejaVuSans-115\"/>\n      <path d=\"M 18.109375 8.203125 \nL 18.109375 -20.796875 \nL 9.078125 -20.796875 \nL 9.078125 54.6875 \nL 18.109375 54.6875 \nL 18.109375 46.390625 \nQ 20.953125 51.265625 25.265625 53.625 \nQ 29.59375 56 35.59375 56 \nQ 45.5625 56 51.78125 48.09375 \nQ 58.015625 40.1875 58.015625 27.296875 \nQ 58.015625 14.40625 51.78125 6.484375 \nQ 45.5625 -1.421875 35.59375 -1.421875 \nQ 29.59375 -1.421875 25.265625 0.953125 \nQ 20.953125 3.328125 18.109375 8.203125 \nz\nM 48.6875 27.296875 \nQ 48.6875 37.203125 44.609375 42.84375 \nQ 40.53125 48.484375 33.40625 48.484375 \nQ 26.265625 48.484375 22.1875 42.84375 \nQ 18.109375 37.203125 18.109375 27.296875 \nQ 18.109375 17.390625 22.1875 11.75 \nQ 26.265625 6.109375 33.40625 6.109375 \nQ 40.53125 6.109375 44.609375 11.75 \nQ 48.6875 17.390625 48.6875 27.296875 \nz\n\" id=\"DejaVuSans-112\"/>\n      <path d=\"M 9.421875 54.6875 \nL 18.40625 54.6875 \nL 18.40625 0 \nL 9.421875 0 \nz\nM 9.421875 75.984375 \nL 18.40625 75.984375 \nL 18.40625 64.59375 \nL 9.421875 64.59375 \nz\n\" id=\"DejaVuSans-105\"/>\n      <path d=\"M 48.78125 52.59375 \nL 48.78125 44.1875 \nQ 44.96875 46.296875 41.140625 47.34375 \nQ 37.3125 48.390625 33.40625 48.390625 \nQ 24.65625 48.390625 19.8125 42.84375 \nQ 14.984375 37.3125 14.984375 27.296875 \nQ 14.984375 17.28125 19.8125 11.734375 \nQ 24.65625 6.203125 33.40625 6.203125 \nQ 37.3125 6.203125 41.140625 7.25 \nQ 44.96875 8.296875 48.78125 10.40625 \nL 48.78125 2.09375 \nQ 45.015625 0.34375 40.984375 -0.53125 \nQ 36.96875 -1.421875 32.421875 -1.421875 \nQ 20.0625 -1.421875 12.78125 6.34375 \nQ 5.515625 14.109375 5.515625 27.296875 \nQ 5.515625 40.671875 12.859375 48.328125 \nQ 20.21875 56 33.015625 56 \nQ 37.15625 56 41.109375 55.140625 \nQ 45.0625 54.296875 48.78125 52.59375 \nz\n\" id=\"DejaVuSans-99\"/>\n     </defs>\n     <g transform=\"translate(14.798438 199.983125)rotate(-90)scale(0.1 -0.1)\">\n      <use xlink:href=\"#DejaVuSans-72\"/>\n      <use x=\"75.195312\" xlink:href=\"#DejaVuSans-111\"/>\n      <use x=\"136.376953\" xlink:href=\"#DejaVuSans-117\"/>\n      <use x=\"199.755859\" xlink:href=\"#DejaVuSans-115\"/>\n      <use x=\"251.855469\" xlink:href=\"#DejaVuSans-101\"/>\n      <use x=\"313.378906\" xlink:href=\"#DejaVuSans-32\"/>\n      <use x=\"345.166016\" xlink:href=\"#DejaVuSans-112\"/>\n      <use x=\"408.642578\" xlink:href=\"#DejaVuSans-114\"/>\n      <use x=\"449.755859\" xlink:href=\"#DejaVuSans-105\"/>\n      <use x=\"477.539062\" xlink:href=\"#DejaVuSans-99\"/>\n      <use x=\"532.519531\" xlink:href=\"#DejaVuSans-101\"/>\n     </g>\n    </g>\n   </g>\n   <g id=\"patch_3\">\n    <path d=\"M 66.053125 333.36 \nL 66.053125 7.2 \n\" style=\"fill:none;stroke:#000000;stroke-linecap:square;stroke-linejoin:miter;stroke-width:0.8;\"/>\n   </g>\n   <g id=\"patch_4\">\n    <path d=\"M 624.053125 333.36 \nL 624.053125 7.2 \n\" style=\"fill:none;stroke:#000000;stroke-linecap:square;stroke-linejoin:miter;stroke-width:0.8;\"/>\n   </g>\n   <g id=\"patch_5\">\n    <path d=\"M 66.053125 333.36 \nL 624.053125 333.36 \n\" style=\"fill:none;stroke:#000000;stroke-linecap:square;stroke-linejoin:miter;stroke-width:0.8;\"/>\n   </g>\n   <g id=\"patch_6\">\n    <path d=\"M 66.053125 7.2 \nL 624.053125 7.2 \n\" style=\"fill:none;stroke:#000000;stroke-linecap:square;stroke-linejoin:miter;stroke-width:0.8;\"/>\n   </g>\n  </g>\n </g>\n <defs>\n  <clipPath id=\"pe4727b0c8a\">\n   <rect height=\"326.16\" width=\"558\" x=\"66.053125\" y=\"7.2\"/>\n  </clipPath>\n </defs>\n</svg>\n",
      "image/png": "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\n"
     },
     "metadata": {
      "needs_background": "light"
     }
    }
   ],
   "source": [
    "fig, ax = plt.subplots(figsize=(10, 6))\n",
    "ax.scatter(x=lrmv['Bedroom number'], y=lrmv['House price'], color='dodgerblue', marker='x')\n",
    "ax.set_xlabel('Bedroom number')\n",
    "ax.set_ylabel('House price')"
   ]
  },
  {
   "source": [
    "## 2. Feature Normalization"
   ],
   "cell_type": "markdown",
   "metadata": {}
=======
   "cell_type": "code",
   "execution_count": null,
   "metadata": {},
   "outputs": [],
   "source": []
>>>>>>> a6a710708627d226108486d0a2d712c5d9e39fd8
  }
 ],
 "metadata": {
  "kernelspec": {
   "display_name": "Python 3",
   "language": "python",
   "name": "python3"
  },
  "language_info": {
   "codemirror_mode": {
    "name": "ipython",
    "version": 3
   },
   "file_extension": ".py",
   "mimetype": "text/x-python",
   "name": "python",
   "nbconvert_exporter": "python",
   "pygments_lexer": "ipython3",
   "version": "3.8.3-final"
  }
 },
 "nbformat": 4,
 "nbformat_minor": 4
}